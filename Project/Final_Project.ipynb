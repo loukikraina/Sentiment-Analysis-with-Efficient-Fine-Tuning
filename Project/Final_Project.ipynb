{
  "cells": [
    {
      "cell_type": "code",
      "execution_count": 5,
      "id": "db05b641-b477-4788-afc8-677dafd7b004",
      "metadata": {
        "id": "db05b641-b477-4788-afc8-677dafd7b004"
      },
      "outputs": [],
      "source": [
        "import os\n",
        "# Making sure it downloads models on my D drive, as no space in defualt file location\n",
        "\n",
        "from tqdm.notebook import tqdm\n",
        "import pandas as pd\n",
        "import os\n",
        "import csv\n",
        "import sys\n",
        "import numpy as np\n",
        "import time\n",
        "import random\n",
        "from typing import Optional, List, Tuple\n",
        "import matplotlib.pyplot as plt\n",
        "import textwrap\n",
        "import torch\n",
        "import json\n",
        "\n",
        "from transformers import AdamW, AutoTokenizer, AutoModelForSequenceClassification, Trainer, TrainingArguments, get_scheduler, EarlyStoppingCallback\n",
        "from datasets import load_dataset\n",
        "from peft import LoraConfig, get_peft_model, TaskType\n",
        "from pathlib import Path\n",
        "\n",
        "from transformers.models.roberta.modeling_roberta import (\n",
        "    RobertaModel,\n",
        "    RobertaEncoder,\n",
        "    RobertaLayer,\n",
        "    RobertaEmbeddings,\n",
        "    RobertaConfig,\n",
        ")"
      ]
    },
    {
      "cell_type": "code",
      "source": [
        "from google.colab import drive\n",
        "drive.mount('/content/drive')"
      ],
      "metadata": {
        "colab": {
          "base_uri": "https://localhost:8080/"
        },
        "id": "OS_266u5sUaH",
        "outputId": "4d09f910-d98b-4d98-9e42-abb1b65e9717"
      },
      "id": "OS_266u5sUaH",
      "execution_count": 1,
      "outputs": [
        {
          "output_type": "stream",
          "name": "stdout",
          "text": [
            "Mounted at /content/drive\n"
          ]
        }
      ]
    },
    {
      "cell_type": "code",
      "source": [
        "%cd /content/drive/MyDrive/final"
      ],
      "metadata": {
        "colab": {
          "base_uri": "https://localhost:8080/"
        },
        "id": "XQZ785i7t_wk",
        "outputId": "f0985c1a-8d25-438b-af7e-fd5926b0831e"
      },
      "id": "XQZ785i7t_wk",
      "execution_count": 10,
      "outputs": [
        {
          "output_type": "stream",
          "name": "stdout",
          "text": [
            "/content/drive/MyDrive/final\n"
          ]
        }
      ]
    },
    {
      "cell_type": "code",
      "source": [
        "!pip install transformers datasets peft evaluate"
      ],
      "metadata": {
        "colab": {
          "base_uri": "https://localhost:8080/"
        },
        "id": "5bh6Cdqyto9O",
        "outputId": "6ba05d07-6d87-469f-f976-1bcf781cb6fd"
      },
      "id": "5bh6Cdqyto9O",
      "execution_count": 4,
      "outputs": [
        {
          "output_type": "stream",
          "name": "stdout",
          "text": [
            "Requirement already satisfied: transformers in /usr/local/lib/python3.10/dist-packages (4.46.3)\n",
            "Collecting datasets\n",
            "  Downloading datasets-3.1.0-py3-none-any.whl.metadata (20 kB)\n",
            "Requirement already satisfied: peft in /usr/local/lib/python3.10/dist-packages (0.13.2)\n",
            "Collecting evaluate\n",
            "  Downloading evaluate-0.4.3-py3-none-any.whl.metadata (9.2 kB)\n",
            "Requirement already satisfied: filelock in /usr/local/lib/python3.10/dist-packages (from transformers) (3.16.1)\n",
            "Requirement already satisfied: huggingface-hub<1.0,>=0.23.2 in /usr/local/lib/python3.10/dist-packages (from transformers) (0.26.3)\n",
            "Requirement already satisfied: numpy>=1.17 in /usr/local/lib/python3.10/dist-packages (from transformers) (1.26.4)\n",
            "Requirement already satisfied: packaging>=20.0 in /usr/local/lib/python3.10/dist-packages (from transformers) (24.2)\n",
            "Requirement already satisfied: pyyaml>=5.1 in /usr/local/lib/python3.10/dist-packages (from transformers) (6.0.2)\n",
            "Requirement already satisfied: regex!=2019.12.17 in /usr/local/lib/python3.10/dist-packages (from transformers) (2024.9.11)\n",
            "Requirement already satisfied: requests in /usr/local/lib/python3.10/dist-packages (from transformers) (2.32.3)\n",
            "Requirement already satisfied: tokenizers<0.21,>=0.20 in /usr/local/lib/python3.10/dist-packages (from transformers) (0.20.3)\n",
            "Requirement already satisfied: safetensors>=0.4.1 in /usr/local/lib/python3.10/dist-packages (from transformers) (0.4.5)\n",
            "Requirement already satisfied: tqdm>=4.27 in /usr/local/lib/python3.10/dist-packages (from transformers) (4.66.6)\n",
            "Requirement already satisfied: pyarrow>=15.0.0 in /usr/local/lib/python3.10/dist-packages (from datasets) (17.0.0)\n",
            "Collecting dill<0.3.9,>=0.3.0 (from datasets)\n",
            "  Downloading dill-0.3.8-py3-none-any.whl.metadata (10 kB)\n",
            "Requirement already satisfied: pandas in /usr/local/lib/python3.10/dist-packages (from datasets) (2.2.2)\n",
            "Collecting xxhash (from datasets)\n",
            "  Downloading xxhash-3.5.0-cp310-cp310-manylinux_2_17_x86_64.manylinux2014_x86_64.whl.metadata (12 kB)\n",
            "Collecting multiprocess<0.70.17 (from datasets)\n",
            "  Downloading multiprocess-0.70.16-py310-none-any.whl.metadata (7.2 kB)\n",
            "Collecting fsspec<=2024.9.0,>=2023.1.0 (from fsspec[http]<=2024.9.0,>=2023.1.0->datasets)\n",
            "  Downloading fsspec-2024.9.0-py3-none-any.whl.metadata (11 kB)\n",
            "Requirement already satisfied: aiohttp in /usr/local/lib/python3.10/dist-packages (from datasets) (3.11.9)\n",
            "Requirement already satisfied: psutil in /usr/local/lib/python3.10/dist-packages (from peft) (5.9.5)\n",
            "Requirement already satisfied: torch>=1.13.0 in /usr/local/lib/python3.10/dist-packages (from peft) (2.5.1+cu121)\n",
            "Requirement already satisfied: accelerate>=0.21.0 in /usr/local/lib/python3.10/dist-packages (from peft) (1.1.1)\n",
            "Requirement already satisfied: aiohappyeyeballs>=2.3.0 in /usr/local/lib/python3.10/dist-packages (from aiohttp->datasets) (2.4.4)\n",
            "Requirement already satisfied: aiosignal>=1.1.2 in /usr/local/lib/python3.10/dist-packages (from aiohttp->datasets) (1.3.1)\n",
            "Requirement already satisfied: async-timeout<6.0,>=4.0 in /usr/local/lib/python3.10/dist-packages (from aiohttp->datasets) (4.0.3)\n",
            "Requirement already satisfied: attrs>=17.3.0 in /usr/local/lib/python3.10/dist-packages (from aiohttp->datasets) (24.2.0)\n",
            "Requirement already satisfied: frozenlist>=1.1.1 in /usr/local/lib/python3.10/dist-packages (from aiohttp->datasets) (1.5.0)\n",
            "Requirement already satisfied: multidict<7.0,>=4.5 in /usr/local/lib/python3.10/dist-packages (from aiohttp->datasets) (6.1.0)\n",
            "Requirement already satisfied: propcache>=0.2.0 in /usr/local/lib/python3.10/dist-packages (from aiohttp->datasets) (0.2.1)\n",
            "Requirement already satisfied: yarl<2.0,>=1.17.0 in /usr/local/lib/python3.10/dist-packages (from aiohttp->datasets) (1.18.3)\n",
            "Requirement already satisfied: typing-extensions>=3.7.4.3 in /usr/local/lib/python3.10/dist-packages (from huggingface-hub<1.0,>=0.23.2->transformers) (4.12.2)\n",
            "Requirement already satisfied: charset-normalizer<4,>=2 in /usr/local/lib/python3.10/dist-packages (from requests->transformers) (3.4.0)\n",
            "Requirement already satisfied: idna<4,>=2.5 in /usr/local/lib/python3.10/dist-packages (from requests->transformers) (3.10)\n",
            "Requirement already satisfied: urllib3<3,>=1.21.1 in /usr/local/lib/python3.10/dist-packages (from requests->transformers) (2.2.3)\n",
            "Requirement already satisfied: certifi>=2017.4.17 in /usr/local/lib/python3.10/dist-packages (from requests->transformers) (2024.8.30)\n",
            "Requirement already satisfied: networkx in /usr/local/lib/python3.10/dist-packages (from torch>=1.13.0->peft) (3.4.2)\n",
            "Requirement already satisfied: jinja2 in /usr/local/lib/python3.10/dist-packages (from torch>=1.13.0->peft) (3.1.4)\n",
            "Requirement already satisfied: sympy==1.13.1 in /usr/local/lib/python3.10/dist-packages (from torch>=1.13.0->peft) (1.13.1)\n",
            "Requirement already satisfied: mpmath<1.4,>=1.1.0 in /usr/local/lib/python3.10/dist-packages (from sympy==1.13.1->torch>=1.13.0->peft) (1.3.0)\n",
            "Requirement already satisfied: python-dateutil>=2.8.2 in /usr/local/lib/python3.10/dist-packages (from pandas->datasets) (2.8.2)\n",
            "Requirement already satisfied: pytz>=2020.1 in /usr/local/lib/python3.10/dist-packages (from pandas->datasets) (2024.2)\n",
            "Requirement already satisfied: tzdata>=2022.7 in /usr/local/lib/python3.10/dist-packages (from pandas->datasets) (2024.2)\n",
            "Requirement already satisfied: six>=1.5 in /usr/local/lib/python3.10/dist-packages (from python-dateutil>=2.8.2->pandas->datasets) (1.16.0)\n",
            "Requirement already satisfied: MarkupSafe>=2.0 in /usr/local/lib/python3.10/dist-packages (from jinja2->torch>=1.13.0->peft) (3.0.2)\n",
            "Downloading datasets-3.1.0-py3-none-any.whl (480 kB)\n",
            "\u001b[2K   \u001b[90m━━━━━━━━━━━━━━━━━━━━━━━━━━━━━━━━━━━━━━━━\u001b[0m \u001b[32m480.6/480.6 kB\u001b[0m \u001b[31m22.0 MB/s\u001b[0m eta \u001b[36m0:00:00\u001b[0m\n",
            "\u001b[?25hDownloading evaluate-0.4.3-py3-none-any.whl (84 kB)\n",
            "\u001b[2K   \u001b[90m━━━━━━━━━━━━━━━━━━━━━━━━━━━━━━━━━━━━━━━━\u001b[0m \u001b[32m84.0/84.0 kB\u001b[0m \u001b[31m8.2 MB/s\u001b[0m eta \u001b[36m0:00:00\u001b[0m\n",
            "\u001b[?25hDownloading dill-0.3.8-py3-none-any.whl (116 kB)\n",
            "\u001b[2K   \u001b[90m━━━━━━━━━━━━━━━━━━━━━━━━━━━━━━━━━━━━━━━━\u001b[0m \u001b[32m116.3/116.3 kB\u001b[0m \u001b[31m11.2 MB/s\u001b[0m eta \u001b[36m0:00:00\u001b[0m\n",
            "\u001b[?25hDownloading fsspec-2024.9.0-py3-none-any.whl (179 kB)\n",
            "\u001b[2K   \u001b[90m━━━━━━━━━━━━━━━━━━━━━━━━━━━━━━━━━━━━━━━━\u001b[0m \u001b[32m179.3/179.3 kB\u001b[0m \u001b[31m14.4 MB/s\u001b[0m eta \u001b[36m0:00:00\u001b[0m\n",
            "\u001b[?25hDownloading multiprocess-0.70.16-py310-none-any.whl (134 kB)\n",
            "\u001b[2K   \u001b[90m━━━━━━━━━━━━━━━━━━━━━━━━━━━━━━━━━━━━━━━━\u001b[0m \u001b[32m134.8/134.8 kB\u001b[0m \u001b[31m13.0 MB/s\u001b[0m eta \u001b[36m0:00:00\u001b[0m\n",
            "\u001b[?25hDownloading xxhash-3.5.0-cp310-cp310-manylinux_2_17_x86_64.manylinux2014_x86_64.whl (194 kB)\n",
            "\u001b[2K   \u001b[90m━━━━━━━━━━━━━━━━━━━━━━━━━━━━━━━━━━━━━━━━\u001b[0m \u001b[32m194.1/194.1 kB\u001b[0m \u001b[31m17.5 MB/s\u001b[0m eta \u001b[36m0:00:00\u001b[0m\n",
            "\u001b[?25hInstalling collected packages: xxhash, fsspec, dill, multiprocess, datasets, evaluate\n",
            "  Attempting uninstall: fsspec\n",
            "    Found existing installation: fsspec 2024.10.0\n",
            "    Uninstalling fsspec-2024.10.0:\n",
            "      Successfully uninstalled fsspec-2024.10.0\n",
            "\u001b[31mERROR: pip's dependency resolver does not currently take into account all the packages that are installed. This behaviour is the source of the following dependency conflicts.\n",
            "gcsfs 2024.10.0 requires fsspec==2024.10.0, but you have fsspec 2024.9.0 which is incompatible.\u001b[0m\u001b[31m\n",
            "\u001b[0mSuccessfully installed datasets-3.1.0 dill-0.3.8 evaluate-0.4.3 fsspec-2024.9.0 multiprocess-0.70.16 xxhash-3.5.0\n"
          ]
        }
      ]
    },
    {
      "cell_type": "code",
      "execution_count": 6,
      "id": "be59cec3-cf96-475a-bef8-489986d5d9ae",
      "metadata": {
        "colab": {
          "base_uri": "https://localhost:8080/"
        },
        "id": "be59cec3-cf96-475a-bef8-489986d5d9ae",
        "outputId": "6059f2c4-a668-45da-afe3-6c8461c72ece"
      },
      "outputs": [
        {
          "output_type": "stream",
          "name": "stdout",
          "text": [
            "Using Device: cuda\n"
          ]
        }
      ],
      "source": [
        "device = \"cuda\" if torch.cuda.is_available() else \"cpu\"\n",
        "print(f'Using Device: {device}')"
      ]
    },
    {
      "cell_type": "code",
      "execution_count": 7,
      "id": "f9578774-1faf-4122-84bb-d47e6b8957d6",
      "metadata": {
        "id": "f9578774-1faf-4122-84bb-d47e6b8957d6"
      },
      "outputs": [],
      "source": [
        "# Define model directories\n",
        "BASE_MODEL_DIR = \"./base_model\"\n",
        "LORA_MODEL_DIR = \"./lora_model\"\n",
        "ADAPTER_MODEL_DIR = \"./adapter_model\""
      ]
    },
    {
      "cell_type": "code",
      "execution_count": 11,
      "id": "57a1a869-bf1a-486d-ba4e-4b2492b524e9",
      "metadata": {
        "id": "57a1a869-bf1a-486d-ba4e-4b2492b524e9"
      },
      "outputs": [],
      "source": [
        "# base train output dir\n",
        "TRAIN_OUTPUT_DIR = \"./train_output\"\n",
        "def output_file_name(model_name):\n",
        "    return f'{TRAIN_OUTPUT_DIR}/training_results_{model_name}.json'\n",
        "# Base directory names\n",
        "from datetime import datetime\n",
        "\n",
        "# timestamp = datetime.now().strftime(\"%Y%m%d_%H%M%S\")\n",
        "base_results_dir = f\"./results/base\" #_{timestamp}\"\n",
        "lora_results_dir = f\"./results/lora\" #_{timestamp}\"\n",
        "adapter_results_dir = f\"./results/adapter\" #_{timestamp}\"\n",
        "\n",
        "# Ensure directories exist\n",
        "Path(base_results_dir).mkdir(parents=True, exist_ok=True)\n",
        "Path(lora_results_dir).mkdir(parents=True, exist_ok=True)\n",
        "Path(adapter_results_dir).mkdir(parents=True, exist_ok=True)"
      ]
    },
    {
      "cell_type": "code",
      "execution_count": 12,
      "id": "f15155e3-8309-48c4-a9d9-e5469c361a6c",
      "metadata": {
        "id": "f15155e3-8309-48c4-a9d9-e5469c361a6c"
      },
      "outputs": [],
      "source": [
        "import pandas as pd\n",
        "from transformers import TrainerCallback\n",
        "import os\n",
        "\n",
        "class CSVLoggerCallback(TrainerCallback):\n",
        "    def __init__(self, log_file=\"./logs/training_log.csv\"):\n",
        "        self.log_file = log_file\n",
        "        if not os.path.exists(log_file):\n",
        "            # Initialize the CSV with headers if it doesn't exist\n",
        "            with open(log_file, \"w\") as f:\n",
        "                f.write(\"step,loss,lr,gradient_norm\\n\")\n",
        "\n",
        "    def on_log(self, args, state, control, logs=None, model=None, **kwargs):\n",
        "        if logs is not None and model is not None:\n",
        "            step = state.global_step\n",
        "            loss = logs.get(\"loss\", None)\n",
        "            lr = logs.get(\"learning_rate\", None)\n",
        "\n",
        "            # Calculate the gradient norm\n",
        "            gradient_norm = logs.get(\"grad_norm\", None)\n",
        "\n",
        "            # Append to CSV\n",
        "            if loss is not None:\n",
        "                with open(self.log_file, \"a\") as f:\n",
        "                    f.write(f\"{step},{loss},{lr},{gradient_norm}\\n\")"
      ]
    },
    {
      "cell_type": "code",
      "execution_count": 43,
      "id": "c0c65a20-11f5-41cf-9f9e-029968b31ce9",
      "metadata": {
        "id": "c0c65a20-11f5-41cf-9f9e-029968b31ce9"
      },
      "outputs": [],
      "source": [
        "def print_trainable_params(model, stage_name=\"Model\"):\n",
        "    print(f\"\\nTrainable Parameters in {stage_name}:\")\n",
        "    total_params = sum(p.numel() for p in model.parameters())\n",
        "    trainable_params = sum(p.numel() for p in model.parameters() if p.requires_grad)\n",
        "    print(f\"Total Parameters: {total_params}\")\n",
        "    print(f\"Trainable Parameters: {trainable_params}\")\n",
        "    print(f\"%\\\\age of trainable params: {(trainable_params/total_params) * 100}\")\n",
        "    # for name, param in model.named_parameters():\n",
        "    #     if param.requires_grad:\n",
        "    #         print(f\"  - {name}: {param.numel()} params\")"
      ]
    },
    {
      "cell_type": "code",
      "execution_count": 14,
      "id": "f8b00c47-e79c-44d0-af3b-9145d50c986d",
      "metadata": {
        "id": "f8b00c47-e79c-44d0-af3b-9145d50c986d"
      },
      "outputs": [],
      "source": [
        "#Number of epochs for all models\n",
        "num_epochs = 5\n",
        "# Base TrainingArguments configuration\n",
        "base_args = {\n",
        "    \"eval_strategy\": \"epoch\",\n",
        "    \"save_strategy\": \"epoch\",\n",
        "    \"per_device_train_batch_size\": 16,\n",
        "    \"per_device_eval_batch_size\": 16,\n",
        "    \"num_train_epochs\": num_epochs,\n",
        "    \"weight_decay\": 0.01,\n",
        "    \"logging_steps\": 100,\n",
        "    \"load_best_model_at_end\": True,\n",
        "    \"fp16\": True,\n",
        "    \"report_to\": \"none\",\n",
        "    \"metric_for_best_model\": \"eval_loss\",\n",
        "    \"greater_is_better\": False,\n",
        "}"
      ]
    },
    {
      "cell_type": "code",
      "execution_count": 15,
      "id": "87d1967b-a7a8-4134-bf67-9cfa1ad40b51",
      "metadata": {
        "id": "87d1967b-a7a8-4134-bf67-9cfa1ad40b51"
      },
      "outputs": [],
      "source": [
        "# To create dynamic result directory\n",
        "def create_training_args(output_dir, lr):\n",
        "    return TrainingArguments(\n",
        "        output_dir=output_dir,\n",
        "        logging_dir=f\"{output_dir}/logs\",\n",
        "        learning_rate = lr,\n",
        "        **base_args,\n",
        "    )"
      ]
    },
    {
      "cell_type": "code",
      "execution_count": 16,
      "id": "6786e0aa-af95-4583-afe0-6aef67376e14",
      "metadata": {
        "colab": {
          "base_uri": "https://localhost:8080/"
        },
        "id": "6786e0aa-af95-4583-afe0-6aef67376e14",
        "outputId": "ddb4a988-a26a-4c03-e734-17b68588ae76"
      },
      "outputs": [
        {
          "output_type": "stream",
          "name": "stdout",
          "text": [
            "\n",
            "Tokenizer already exists. Loading from base model directory...\n"
          ]
        }
      ],
      "source": [
        "# Load Llama 1B and tokenizer\n",
        "model_name = \"meta-llama/Llama-3.2-1B\"  # Using LLama 1B as base model\n",
        "\n",
        "# Couldn't train Llama because of lower mem GPUs so shifting to roberta\n",
        "model_name = \"FacebookAI/roberta-large\"\n",
        "\n",
        "# Step 1: Load or initialize tokenizer\n",
        "if os.path.exists(BASE_MODEL_DIR):\n",
        "    print(\"\\nTokenizer already exists. Loading from base model directory...\")\n",
        "    tokenizer = AutoTokenizer.from_pretrained(BASE_MODEL_DIR)\n",
        "else:\n",
        "    print(\"\\nInitializing tokenizer...\")\n",
        "    tokenizer = AutoTokenizer.from_pretrained(model_name)\n",
        "    # Ensure tokenizer has a padding token\n",
        "    if tokenizer.pad_token is None:\n",
        "        tokenizer.pad_token = tokenizer.eos_token  # Use EOS token as PAD token"
      ]
    },
    {
      "cell_type": "code",
      "execution_count": 65,
      "id": "f6cc5539-0614-4bb4-864a-2225573c8d3b",
      "metadata": {
        "colab": {
          "base_uri": "https://localhost:8080/",
          "height": 113,
          "referenced_widgets": [
            "0be7bb588aae45d9a106222bf4f84cbd",
            "d1d2db308af940c2955e39b81c59ef44",
            "cfe0bc0f0de14573bdb0bd884f4af671",
            "ae38d1f735064f03a0fbf12f7710250a",
            "fbb339d04d734fd1adc7186bc0a508a0",
            "9329ba4bc0de4c4cb3cfa29adab68631",
            "c7649fa737b3423bb576308484cdd0ff",
            "5a586264f0a340fb85b8a6dfc6a58a13",
            "aff3f622d17843dc864b807f8c1a6917",
            "1e87876a57f542968d231b3525774ae1",
            "6bce069107da4ca799e3b81c8feef556",
            "9c3fa2b01c224de892979f7a9ea4f2d1",
            "40b13a06e01844e7bc09630b112ff0db",
            "8683c20efca746119b837c7863d14663",
            "8d5c3b5391724af8a533f59281fb353f",
            "e34e809ff89b4e05908e1207e74c4766",
            "75708e656f5b434c8b55a41f4b8f5a3f",
            "f70beb0d687a43bfb8a75616818ea97a",
            "0e2518f224774746ab66c786d70a434e",
            "fa4d15c5aa03463f916e15d99b331bf9",
            "061b3ef781684e579312447fb110d45e",
            "5bc535525dc64f7e92a3af807fe3c0b5",
            "618b9a5ae6354c209cd4ac624f5eba01",
            "8bf3fc586f284064b69332a314a455af",
            "671761573f674fed84c50a727ff8bb75",
            "16d88a6ca28d4b178537af0de36fd4dc",
            "c8aca74e1004406babb092edeeef381a",
            "45ee36e656e14c75a1da3b3b0d7d3fc5",
            "16c6693937b4472e9a5e8fd9871b4e35",
            "edcddb0ad2894e0f9e0d9afe5e329802",
            "522e3b2ba34c4a5d8312b73a74d278a2",
            "83e7af82825146c0b51f092de5d01a3a",
            "d3d6ab7f540c4948bbeec19f4401ee98"
          ]
        },
        "id": "f6cc5539-0614-4bb4-864a-2225573c8d3b",
        "outputId": "d53985f5-12f5-4661-a139-620a5c4027ee"
      },
      "outputs": [
        {
          "output_type": "display_data",
          "data": {
            "text/plain": [
              "Map:   0%|          | 0/25000 [00:00<?, ? examples/s]"
            ],
            "application/vnd.jupyter.widget-view+json": {
              "version_major": 2,
              "version_minor": 0,
              "model_id": "0be7bb588aae45d9a106222bf4f84cbd"
            }
          },
          "metadata": {}
        },
        {
          "output_type": "display_data",
          "data": {
            "text/plain": [
              "Map:   0%|          | 0/25000 [00:00<?, ? examples/s]"
            ],
            "application/vnd.jupyter.widget-view+json": {
              "version_major": 2,
              "version_minor": 0,
              "model_id": "9c3fa2b01c224de892979f7a9ea4f2d1"
            }
          },
          "metadata": {}
        },
        {
          "output_type": "display_data",
          "data": {
            "text/plain": [
              "Map:   0%|          | 0/50000 [00:00<?, ? examples/s]"
            ],
            "application/vnd.jupyter.widget-view+json": {
              "version_major": 2,
              "version_minor": 0,
              "model_id": "618b9a5ae6354c209cd4ac624f5eba01"
            }
          },
          "metadata": {}
        }
      ],
      "source": [
        "# Loading Dataset\n",
        "ds = load_dataset(\"stanfordnlp/imdb\")\n",
        "\n",
        "def preprocess_function(examples):\n",
        "    return tokenizer(examples[\"text\"], truncation=True, padding=True, max_length=128)\n",
        "\n",
        "# Tokenize datasets\n",
        "tokenized_datasets = ds.map(preprocess_function, batched=True)\n",
        "\n",
        "# Prepare train and test datasets\n",
        "train_dataset = tokenized_datasets[\"train\"].shuffle(seed=42)  # Use full training dataset\n",
        "test_dataset = tokenized_datasets[\"test\"].shuffle(seed=42)    # Use full testing dataset"
      ]
    },
    {
      "cell_type": "code",
      "execution_count": 18,
      "id": "76d0e0b8-fba3-4170-a29a-f48b50557f1d",
      "metadata": {
        "colab": {
          "base_uri": "https://localhost:8080/"
        },
        "id": "76d0e0b8-fba3-4170-a29a-f48b50557f1d",
        "outputId": "4e46d1fb-f223-4fd1-f232-684c4bf0f831"
      },
      "outputs": [
        {
          "output_type": "stream",
          "name": "stdout",
          "text": [
            "Untokenized: I rented I AM CURIOUS-YELLOW from my video store because of all the controversy that surrounded it when it was first released in 1967. I also heard that at first it was seized by U.S. customs if it ever tried to enter this country, therefore being a fan of films considered \"controversial\" I really had to see this for myself.<br /><br />The plot is centered around a young Swedish drama student named Lena who wants to learn everything she can about life. In particular she wants to focus her attentions to making some sort of documentary on what the average Swede thought about certain political issues such as the Vietnam War and race issues in the United States. In between asking politicians and ordinary denizens of Stockholm about their opinions on politics, she has sex with her drama teacher, classmates, and married men.<br /><br />What kills me about I AM CURIOUS-YELLOW is that 40 years ago, this was considered pornographic. Really, the sex and nudity scenes are few and far between, even then it's not shot like some cheaply made porno. While my countrymen mind find it shocking, in reality sex and nudity are a major staple in Swedish cinema. Even Ingmar Bergman, arguably their answer to good old boy John Ford, had sex scenes in his films.<br /><br />I do commend the filmmakers for the fact that any sex shown in the film is shown for artistic purposes rather than just to shock people and make money to be shown in pornographic theaters in America. I AM CURIOUS-YELLOW is a good film for anyone wanting to study the meat and potatoes (no pun intended) of Swedish cinema. But really, this film doesn't have much of a plot.\n",
            "Label: 0\n",
            "Tokenized: {'input_ids': [[0, 100, 16425, 38, 3326, 230, 42338, 18024, 12, 975, 25322, 4581, 31, 127, 569, 1400, 142, 9, 70, 5, 6170, 14, 7501, 24, 77, 24, 21, 78, 703, 11, 13025, 4, 38, 67, 1317, 14, 23, 78, 24, 21, 5942, 30, 121, 4, 104, 4, 10102, 114, 24, 655, 1381, 7, 2914, 42, 247, 6, 3891, 145, 10, 2378, 9, 3541, 1687, 22, 10800, 34689, 113, 38, 269, 56, 7, 192, 42, 13, 2185, 49069, 3809, 1589, 49007, 3809, 48709, 133, 6197, 16, 14889, 198, 10, 664, 9004, 4149, 1294, 1440, 27450, 54, 1072, 7, 1532, 960, 79, 64, 59, 301, 4, 96, 1989, 79, 1072, 7, 1056, 69, 39879, 2485, 7, 442, 103, 2345, 9, 6717, 15, 99, 5, 674, 25517, 242, 802, 59, 1402, 2]], 'attention_mask': [[1, 1, 1, 1, 1, 1, 1, 1, 1, 1, 1, 1, 1, 1, 1, 1, 1, 1, 1, 1, 1, 1, 1, 1, 1, 1, 1, 1, 1, 1, 1, 1, 1, 1, 1, 1, 1, 1, 1, 1, 1, 1, 1, 1, 1, 1, 1, 1, 1, 1, 1, 1, 1, 1, 1, 1, 1, 1, 1, 1, 1, 1, 1, 1, 1, 1, 1, 1, 1, 1, 1, 1, 1, 1, 1, 1, 1, 1, 1, 1, 1, 1, 1, 1, 1, 1, 1, 1, 1, 1, 1, 1, 1, 1, 1, 1, 1, 1, 1, 1, 1, 1, 1, 1, 1, 1, 1, 1, 1, 1, 1, 1, 1, 1, 1, 1, 1, 1, 1, 1, 1, 1, 1, 1, 1, 1, 1, 1]]}\n"
          ]
        }
      ],
      "source": [
        "# Untokenized example\n",
        "untokenized_text = ds[\"train\"][0][\"text\"]\n",
        "print(\"Untokenized:\", untokenized_text)\n",
        "print(\"Label:\",  ds[\"train\"][0][\"label\"])\n",
        "# Tokenized example\n",
        "tokenized_example = preprocess_function({\"text\": [untokenized_text]})\n",
        "print(\"Tokenized:\", tokenized_example)\n"
      ]
    },
    {
      "cell_type": "code",
      "execution_count": 29,
      "id": "89068915-0dc2-404e-b8a2-6cb8ff75c635",
      "metadata": {
        "id": "89068915-0dc2-404e-b8a2-6cb8ff75c635"
      },
      "outputs": [],
      "source": [
        "# Function to evaluate models\n",
        "def evaluate_model_summary(model, training_args, name):\n",
        "    trainer = Trainer(\n",
        "        model=model,\n",
        "        args=training_args,\n",
        "        eval_dataset=test_dataset,\n",
        "        tokenizer=tokenizer,\n",
        "    )\n",
        "    print(f\"\\nEvaluating {name} Model...\")\n",
        "    results = trainer.evaluate()\n",
        "    print(f\"{name} Model Results:\", results)\n",
        "    return results"
      ]
    },
    {
      "cell_type": "code",
      "execution_count": 20,
      "id": "a59e493e-5941-4a6c-b968-6db0a2ba5272",
      "metadata": {
        "colab": {
          "base_uri": "https://localhost:8080/"
        },
        "id": "a59e493e-5941-4a6c-b968-6db0a2ba5272",
        "outputId": "aac863b3-c61b-4e31-e88b-428c331db522"
      },
      "outputs": [
        {
          "output_type": "stream",
          "name": "stdout",
          "text": [
            "\n",
            "Base model already exists. Loading base model...\n"
          ]
        }
      ],
      "source": [
        "# Step 2: Train or load the base model\n",
        "base_training_args = create_training_args(output_dir=base_results_dir, lr=2e-5)\n",
        "\n",
        "if os.path.exists(BASE_MODEL_DIR):\n",
        "    print(\"\\nBase model already exists. Loading base model...\")\n",
        "    base_model = AutoModelForSequenceClassification.from_pretrained(BASE_MODEL_DIR)\n",
        "else:\n",
        "    print(\"\\nTraining Base Model...\")\n",
        "    base_model = AutoModelForSequenceClassification.from_pretrained(model_name, num_labels=2)\n",
        "    base_model.config.pad_token_id = base_model.config.eos_token_id\n",
        "    trainer_base = Trainer(\n",
        "        model=base_model,\n",
        "        args=base_training_args,\n",
        "        train_dataset=train_dataset,\n",
        "        eval_dataset=test_dataset,\n",
        "        tokenizer=tokenizer,\n",
        "        callbacks=[EarlyStoppingCallback(early_stopping_patience=3), CSVLoggerCallback(\"./logs/training_log_base.csv\")],\n",
        "    )\n",
        "    print_trainable_params(base_model, stage_name=\"Base Model\")\n",
        "    base_model.to(device)\n",
        "    start_time = time.time()\n",
        "    train_output = trainer_base.train()\n",
        "    print(f\"Base Model training time: {time.time() - start_time}s\")\n",
        "    base_model.save_pretrained(BASE_MODEL_DIR)\n",
        "    tokenizer.save_pretrained(BASE_MODEL_DIR)\n",
        "    output_file = output_file_name('base')\n",
        "    with open(output_file, 'w') as f:\n",
        "        json.dump(train_output.metrics, f, indent=4)\n",
        "    print(\"\\nBase model training completed.\")"
      ]
    },
    {
      "cell_type": "code",
      "execution_count": 21,
      "id": "bb9c624b-1100-4420-a0c3-b4b7eea258a5",
      "metadata": {
        "id": "bb9c624b-1100-4420-a0c3-b4b7eea258a5"
      },
      "outputs": [],
      "source": [
        "import torch.nn as nn\n",
        "import torch.nn.functional as F\n",
        "from transformers.models.roberta.modeling_roberta import (\n",
        "    RobertaModel,\n",
        "    RobertaEncoder,\n",
        "    RobertaLayer,\n",
        "    RobertaEmbeddings,\n",
        "    RobertaConfig,\n",
        ")\n",
        "\n",
        "class CustomRobertaLayer(RobertaLayer):\n",
        "    def __init__(self, config):\n",
        "        super().__init__(config)\n",
        "        self.down_layer = nn.Linear(config.hidden_size, config.hidden_size // 2)  # Down-projection\n",
        "        self.up_layer = nn.Linear(config.hidden_size // 2, config.hidden_size)    # Up-projection\n",
        "        self.activation = nn.ReLU()                                              # Activation function\n",
        "        self.layer_norm = nn.LayerNorm(config.hidden_size)                       # LayerNorm after Up-projection\n",
        "        # intializing all as new layers\n",
        "        self.down_layer._is_new = True\n",
        "        self.up_layer._is_new = True\n",
        "        self.activation._is_new = True\n",
        "        self.layer_norm._is_new = True\n",
        "\n",
        "    def forward(\n",
        "        self,\n",
        "        hidden_states,\n",
        "        attention_mask=None,\n",
        "        head_mask=None,\n",
        "        encoder_hidden_states=None,\n",
        "        encoder_attention_mask=None,\n",
        "        past_key_value=None,\n",
        "        use_cache=False,\n",
        "        output_attentions=False,\n",
        "        **kwargs,\n",
        "    ):\n",
        "        # Ensure the attention mask matches the required dimensions\n",
        "        if attention_mask is not None:\n",
        "            # Expand dimensions for multi-head attention\n",
        "            attention_mask = attention_mask[:, None, None, :]  # Shape: [batch_size, 1, 1, seq_len]\n",
        "            attention_mask = attention_mask.to(dtype=hidden_states.dtype)  # Match precision (e.g., float16)\n",
        "\n",
        "\n",
        "        # Attention sub-layer\n",
        "        attention_outputs = self.attention(\n",
        "            hidden_states,\n",
        "            attention_mask=attention_mask,\n",
        "            head_mask=head_mask,\n",
        "            encoder_hidden_states=encoder_hidden_states,\n",
        "            encoder_attention_mask=encoder_attention_mask,\n",
        "            past_key_value=past_key_value,\n",
        "            output_attentions=output_attentions,\n",
        "        )\n",
        "        attention_output = attention_outputs[0]\n",
        "\n",
        "        # Feed-forward sub-layer\n",
        "        intermediate_output = self.intermediate(attention_output)\n",
        "        layer_output = self.output(hidden_states=intermediate_output, input_tensor=attention_output)\n",
        "\n",
        "        # Down-projection, activation, up-projection, and LayerNorm\n",
        "        down_projected = self.activation(self.down_layer(layer_output))\n",
        "        up_projected = self.activation(self.up_layer(down_projected))\n",
        "        norm_output = self.layer_norm(up_projected + layer_output)  # Residual connection\n",
        "\n",
        "        return (norm_output,) + attention_outputs[1:]  # Return outputs\n",
        "\n",
        "# Custom Encoder\n",
        "class CustomRobertaEncoder(RobertaEncoder):\n",
        "    def __init__(self, config):\n",
        "        super().__init__(config)\n",
        "        self.layer = nn.ModuleList([CustomRobertaLayer(config) for _ in range(config.num_hidden_layers)])\n",
        "\n",
        "# Custom Model\n",
        "class CustomRobertaModel(RobertaModel):\n",
        "    def __init__(self, config):\n",
        "        super().__init__(config)\n",
        "\n",
        "        # Replace the encoder with the custom encoder\n",
        "        self.embeddings = RobertaEmbeddings(config)\n",
        "        self.encoder = CustomRobertaEncoder(config)\n",
        "\n",
        "        # Add the classification head at the end\n",
        "        self.classifier = nn.Sequential(\n",
        "            nn.Linear(config.hidden_size, 1024),\n",
        "            nn.ReLU(),\n",
        "            nn.Linear(1024, config.num_labels),\n",
        "        )\n",
        "        self.classifier._is_new = True\n",
        "\n",
        "        # Freeze existing layers if needed\n",
        "        self.freeze_pretrained_layers()\n",
        "\n",
        "    def freeze_pretrained_layers(self):\n",
        "        # Freeze all layers except the classifier and custom layers\n",
        "        for name, param in self.named_parameters():\n",
        "            if \"classifier\" in name or \"down_layer\" in name or \"up_layer\" in name or \"layer_norm\" in name:\n",
        "                param.requires_grad = True\n",
        "            else:\n",
        "                param.requires_grad = False\n",
        "\n",
        "    def forward(\n",
        "        self,\n",
        "        input_ids=None,\n",
        "        attention_mask=None,\n",
        "        token_type_ids=None,\n",
        "        position_ids=None,\n",
        "        head_mask=None,\n",
        "        inputs_embeds=None,\n",
        "        output_attentions=None,\n",
        "        output_hidden_states=None,\n",
        "        labels=None,\n",
        "    ):\n",
        "        # Embedding layer\n",
        "        embedding_output = self.embeddings(input_ids, token_type_ids=token_type_ids, position_ids=position_ids)\n",
        "\n",
        "        # Encoder layer\n",
        "        encoder_outputs = self.encoder(\n",
        "            embedding_output,\n",
        "            attention_mask=attention_mask,\n",
        "            head_mask=head_mask,\n",
        "            output_attentions=output_attentions,\n",
        "            output_hidden_states=output_hidden_states,\n",
        "        )\n",
        "        sequence_output = encoder_outputs[0]\n",
        "\n",
        "        # Extract the [CLS] token representation\n",
        "        cls_token_output = sequence_output[:, 0, :]\n",
        "\n",
        "       # Classification head\n",
        "        logits = self.classifier(cls_token_output)\n",
        "\n",
        "        # Compute loss if labels are provided\n",
        "        loss = None\n",
        "        if labels is not None:\n",
        "            loss = F.cross_entropy(logits, labels)\n",
        "\n",
        "        # Return loss if available, otherwise logits\n",
        "        return (loss, logits) if loss is not None else logits\n",
        "\n",
        "# Initialize new weights\n",
        "def initialize_weights(module):\n",
        "    if isinstance(module, nn.Linear) and getattr(module, \"_is_new\", False):\n",
        "        nn.init.xavier_uniform_(module.weight)\n",
        "        if module.bias is not None:\n",
        "            nn.init.zeros_(module.bias)"
      ]
    },
    {
      "cell_type": "code",
      "execution_count": 22,
      "id": "99124809-bb4f-4c16-8f0b-2d3d2eab2c89",
      "metadata": {
        "colab": {
          "base_uri": "https://localhost:8080/",
          "height": 170,
          "referenced_widgets": [
            "b0a613c8e938428ea32653cc994b468a",
            "4487f3500aa049f39389e8850db510cd",
            "67965da80f264af9867f62d8961e7acd",
            "5f56d2cba32c45aba00388ad5ed73f11",
            "b4a77478215749fc81e6cc22e91b068b",
            "c8239d6c52394aeeb4ee8788ed908cdc",
            "c1e6f56519e5406bb1d0936b35d3eb94",
            "b86709b9b1154041bbf62f564a297e5f",
            "0e9cc009659b41a09390e9ef850374a0",
            "13accf884cfd4555aecb34b7cf8de7a7",
            "fc554c42f1e749f28a1611f1fddf3eb1",
            "0e9c0706a68a4792afabd7f6525f05f5",
            "cca75858ad9a4fdbaa0d0b15034ff2fc",
            "dd8e70592465433aab35f52806eb5833",
            "fc0057a246d4452c8fbd2d679003394e",
            "f58e2fc400d24b15854d6599075c9e0a",
            "791937d225944355a6bd72e3bc7b60a3",
            "59cebf85a061460995b2373508b4e064",
            "786a3beb533a4bdeb12a3d1b32575467",
            "239619645a384870aab9c63ff0bb7b23",
            "1da363375be14443885f6589437db60e",
            "e28c66bf25de4368a0c866c2e7ae58a6"
          ]
        },
        "id": "99124809-bb4f-4c16-8f0b-2d3d2eab2c89",
        "outputId": "f670de4d-373d-4f57-d2c8-cafa48a1c957"
      },
      "outputs": [
        {
          "output_type": "stream",
          "name": "stdout",
          "text": [
            "\n",
            "LoRA model already exists. Loading LoRA model...\n"
          ]
        },
        {
          "output_type": "display_data",
          "data": {
            "text/plain": [
              "config.json:   0%|          | 0.00/482 [00:00<?, ?B/s]"
            ],
            "application/vnd.jupyter.widget-view+json": {
              "version_major": 2,
              "version_minor": 0,
              "model_id": "b0a613c8e938428ea32653cc994b468a"
            }
          },
          "metadata": {}
        },
        {
          "output_type": "display_data",
          "data": {
            "text/plain": [
              "model.safetensors:   0%|          | 0.00/1.42G [00:00<?, ?B/s]"
            ],
            "application/vnd.jupyter.widget-view+json": {
              "version_major": 2,
              "version_minor": 0,
              "model_id": "0e9c0706a68a4792afabd7f6525f05f5"
            }
          },
          "metadata": {}
        },
        {
          "output_type": "stream",
          "name": "stderr",
          "text": [
            "Some weights of RobertaForSequenceClassification were not initialized from the model checkpoint at FacebookAI/roberta-large and are newly initialized: ['classifier.dense.bias', 'classifier.dense.weight', 'classifier.out_proj.bias', 'classifier.out_proj.weight']\n",
            "You should probably TRAIN this model on a down-stream task to be able to use it for predictions and inference.\n"
          ]
        }
      ],
      "source": [
        "# Step 3: Train or load the LoRA model\n",
        "lora_training_args = create_training_args(output_dir=lora_results_dir, lr=1e-4)\n",
        "if os.path.exists(LORA_MODEL_DIR):\n",
        "    print(\"\\nLoRA model already exists. Loading LoRA model...\")\n",
        "    lora_model = AutoModelForSequenceClassification.from_pretrained(LORA_MODEL_DIR)\n",
        "else:\n",
        "    print(\"\\nTraining LoRA Model...\")\n",
        "    # Define LoRA configuration\n",
        "    lora_config = LoraConfig(\n",
        "        r=8,\n",
        "        lora_alpha=16,\n",
        "        #target_modules=[\"q_proj\", \"v_proj\"],\n",
        "        lora_dropout=0.1,\n",
        "        bias=\"none\",\n",
        "        task_type=\"SEQ_CLS\",\n",
        "        inference_mode=False,\n",
        "    )\n",
        "    # Apply LoRA to model\n",
        "    base_model_lora = AutoModelForSequenceClassification.from_pretrained(model_name, num_labels=2)\n",
        "    lora_model = get_peft_model(base_model_lora, lora_config).to(device)\n",
        "    trainer_lora = Trainer(\n",
        "        model=lora_model,\n",
        "        args=lora_training_args,\n",
        "        train_dataset=train_dataset,\n",
        "        eval_dataset=test_dataset,\n",
        "        tokenizer=tokenizer,\n",
        "        callbacks=[EarlyStoppingCallback(early_stopping_patience=3), CSVLoggerCallback(\"./logs/training_log_lora.csv\")],\n",
        "    )\n",
        "    print_trainable_params(lora_model, stage_name=\"LoRA Model\")\n",
        "    start_time = time.time()\n",
        "    train_output = trainer_lora.train()\n",
        "    print(f\"LoRA model training time: {time.time() - start_time}s\")\n",
        "    lora_model.save_pretrained(LORA_MODEL_DIR)\n",
        "    tokenizer.save_pretrained(LORA_MODEL_DIR)\n",
        "    output_file = output_file_name('lora')\n",
        "    with open(output_file, 'w') as f:\n",
        "        json.dump(train_output.metrics, f, indent=4)\n",
        "    print(\"\\nLoRA model training completed.\")"
      ]
    },
    {
      "cell_type": "code",
      "execution_count": 38,
      "id": "9c19177c-1d6e-48b6-8abc-d841eed169d3",
      "metadata": {
        "colab": {
          "base_uri": "https://localhost:8080/"
        },
        "id": "9c19177c-1d6e-48b6-8abc-d841eed169d3",
        "outputId": "deb3c3b4-cc64-43c0-d233-e61a6fe88229"
      },
      "outputs": [
        {
          "output_type": "stream",
          "name": "stdout",
          "text": [
            "\n",
            "Adapter model already exists. Loading Adapter model...\n"
          ]
        }
      ],
      "source": [
        "# Step 4: Train or load the Adapter model\n",
        "from safetensors.torch import load_file\n",
        "\n",
        "adapter_training_args = create_training_args(output_dir=adapter_results_dir, lr=2e-5)\n",
        "if os.path.exists(ADAPTER_MODEL_DIR):\n",
        "    print(\"\\nAdapter model already exists. Loading Adapter model...\")\n",
        "    # Load configuration\n",
        "    model_path = os.path.join(ADAPTER_MODEL_DIR, \"model.safetensors\")\n",
        "    weights = load_file(model_path)\n",
        "\n",
        "    config = RobertaConfig.from_pretrained(ADAPTER_MODEL_DIR)\n",
        "\n",
        "    # Load custom model with saved configuration\n",
        "    adapter_model = CustomRobertaModel(config)\n",
        "\n",
        "    # Load model weights\n",
        "    adapter_model.load_state_dict(weights, strict=False)\n",
        "\n",
        "else:\n",
        "    print(\"\\nTraining Adapter Model...\")\n",
        "    config = RobertaConfig.from_pretrained(model_name, num_labels=2)\n",
        "\n",
        "    # Create the custom model\n",
        "    adapter_model = CustomRobertaModel(config)\n",
        "\n",
        "    # Load pretrained weights\n",
        "    pretrained_model = RobertaModel.from_pretrained(model_name)\n",
        "    adapter_model.load_state_dict(pretrained_model.state_dict(), strict=False)\n",
        "    adapter_model.apply(initialize_weights)\n",
        "\n",
        "    # Optimizer with layer-wise learning rate decay\n",
        "    # optimizer_grouped_parameters = [\n",
        "    #     {\"params\": [p for n, p in adapter_model.named_parameters() if any(keyword in n for keyword in [\"classifier\", \"down_layer\", \"up_layer\", \"layer_norm\",])], \"lr\": 1e-4},\n",
        "    #     {\"params\": [p for n, p in adapter_model.named_parameters() if all(keyword not in n for keyword in [\"classifier\", \"down_layer\", \"up_layer\", \"layer_norm\",])], \"lr\": 2e-5},\n",
        "    # ]\n",
        "\n",
        "    # optimizer = torch.optim.AdamW(optimizer_grouped_parameters)\n",
        "\n",
        "    # # Scheduler\n",
        "    # num_training_steps = len(train_dataset) // 16 * num_epochs  # Example for 3 epochs\n",
        "    # scheduler = get_scheduler(\"linear\", optimizer=optimizer, num_warmup_steps=100, num_training_steps=num_training_steps)\n",
        "\n",
        "\n",
        "    trainer_adapter = Trainer(\n",
        "        model=adapter_model,\n",
        "        args=adapter_training_args,\n",
        "        train_dataset=train_dataset,\n",
        "        eval_dataset=test_dataset,\n",
        "        tokenizer=tokenizer,\n",
        "        callbacks=[EarlyStoppingCallback(early_stopping_patience=3), CSVLoggerCallback(\"./logs/training_log_adapter.csv\")],\n",
        "    )\n",
        "\n",
        "    print_trainable_params(adapter_model, stage_name=\"Adapter Model\")\n",
        "    start_time = time.time()\n",
        "    train_output = trainer_adapter.train()\n",
        "    print(f\"Adapter model training time: {time.time() - start_time}s\")\n",
        "    adapter_model.save_pretrained(ADAPTER_MODEL_DIR)\n",
        "    tokenizer.save_pretrained(ADAPTER_MODEL_DIR)\n",
        "    output_file = output_file_name('adapter')\n",
        "    with open(output_file, 'w') as f:\n",
        "        json.dump(train_output.metrics, f, indent=4)\n",
        "    print(\"\\nAdapter model training completed.\")"
      ]
    },
    {
      "cell_type": "code",
      "execution_count": 26,
      "id": "44a5a3fa-6bb6-4a2f-ae6b-94e67912053c",
      "metadata": {
        "id": "44a5a3fa-6bb6-4a2f-ae6b-94e67912053c"
      },
      "outputs": [],
      "source": [
        "import evaluate\n",
        "from sklearn.metrics import confusion_matrix, classification_report\n",
        "import torch\n",
        "import matplotlib.pyplot as plt\n",
        "import seaborn as sns\n",
        "import numpy as np\n",
        "from transformers import Trainer\n",
        "\n",
        "def evaluate_model(trainer, model, name, test_dataset):\n",
        "    \"\"\"\n",
        "    Evaluate the given model and compute various metrics.\n",
        "    \"\"\"\n",
        "\n",
        "    print(f\"\\nEvaluating {name} Model...\")\n",
        "\n",
        "    # Standard evaluation using Trainer\n",
        "    results = trainer.evaluate()\n",
        "\n",
        "    # Extract predictions and labels\n",
        "    predictions, labels, _ = trainer.predict(test_dataset)\n",
        "    preds = np.argmax(predictions, axis=1)\n",
        "\n",
        "    # Load individual metrics\n",
        "    accuracy_metric = evaluate.load(\"accuracy\")\n",
        "    precision_metric = evaluate.load(\"precision\")\n",
        "    recall_metric = evaluate.load(\"recall\")\n",
        "    f1_metric = evaluate.load(\"f1\")\n",
        "\n",
        "    # Compute metrics\n",
        "    accuracy = accuracy_metric.compute(predictions=preds, references=labels)[\"accuracy\"]\n",
        "    precision = precision_metric.compute(predictions=preds, references=labels, average=\"weighted\")[\"precision\"]\n",
        "    recall = recall_metric.compute(predictions=preds, references=labels, average=\"weighted\")[\"recall\"]\n",
        "    f1 = f1_metric.compute(predictions=preds, references=labels, average=\"weighted\")[\"f1\"]\n",
        "\n",
        "    # Compute confusion matrix\n",
        "    confusion_mat = confusion_matrix(labels, preds)\n",
        "\n",
        "    # Print metrics\n",
        "    print(f\"Accuracy: {accuracy:.4f}\")\n",
        "    print(f\"Precision: {precision:.4f}\")\n",
        "    print(f\"Recall: {recall:.4f}\")\n",
        "    print(f\"F1-Score: {f1:.4f}\")\n",
        "    print(\"\\nConfusion Matrix:\\n\", confusion_mat)\n",
        "\n",
        "    # Visualize confusion matrix\n",
        "    visualize_confusion_matrix(confusion_mat, name)\n",
        "\n",
        "   # Add results to a dictionary\n",
        "    metrics = {\n",
        "        \"eval_loss\": results[\"eval_loss\"],\n",
        "        \"accuracy\": accuracy,\n",
        "        \"precision\": precision,\n",
        "        \"recall\": recall,\n",
        "        \"f1_score\": f1,\n",
        "        \"confusion_matrix\": confusion_mat\n",
        "    }\n",
        "\n",
        "    return metrics\n",
        "\n",
        "def visualize_confusion_matrix(confusion_mat, model_name):\n",
        "    \"\"\"\n",
        "    Visualize the confusion matrix.\n",
        "    \"\"\"\n",
        "    plt.figure(figsize=(8, 6))\n",
        "    sns.heatmap(confusion_mat, annot=True, fmt=\"d\", cmap=\"Blues\")\n",
        "    plt.title(f\"Confusion Matrix - {model_name} Model\")\n",
        "    plt.xlabel(\"Predicted\")\n",
        "    plt.ylabel(\"Actual\")\n",
        "    plt.show()\n",
        "\n",
        "def calculate_model_size(model):\n",
        "    \"\"\"\n",
        "    Calculate total and trainable parameters of a model.\n",
        "    \"\"\"\n",
        "    total_params = sum(p.numel() for p in model.parameters())\n",
        "    trainable_params = sum(p.numel() for p in model.parameters() if p.requires_grad)\n",
        "    return total_params, trainable_params\n",
        "\n",
        "# Main comparison code\n",
        "def compare_models(base_model, lora_model, adapter_model, training_args_list, test_dataset, tokenizer):\n",
        "    \"\"\"\n",
        "    Compare Base, LoRA, and Adapter models on various metrics.\n",
        "    \"\"\"\n",
        "    metrics_summary = {}\n",
        "\n",
        "    # Evaluate Base Model\n",
        "    base_trainer = Trainer(\n",
        "        model=base_model,\n",
        "        args=training_args_list[0],\n",
        "        eval_dataset=test_dataset,\n",
        "        tokenizer=tokenizer,\n",
        "    )\n",
        "    base_results = evaluate_model(base_trainer, base_model, \"Base\", test_dataset)\n",
        "    metrics_summary[\"Base\"] = base_results\n",
        "\n",
        "    # Evaluate LoRA Model\n",
        "    lora_trainer = Trainer(\n",
        "        model=lora_model,\n",
        "        args=training_args_list[1],\n",
        "        eval_dataset=test_dataset,\n",
        "        tokenizer=tokenizer,\n",
        "    )\n",
        "    lora_results = evaluate_model(lora_trainer, lora_model, \"LoRA\", test_dataset)\n",
        "    metrics_summary[\"LoRA\"] = lora_results\n",
        "\n",
        "    # Evaluate Adapter Model\n",
        "    adapter_trainer = Trainer(\n",
        "        model=adapter_model,\n",
        "        args=training_args_list[2],\n",
        "        eval_dataset=test_dataset,\n",
        "        tokenizer=tokenizer,\n",
        "    )\n",
        "    adapter_results = evaluate_model(adapter_trainer, adapter_model, \"Adapter\", test_dataset)\n",
        "    metrics_summary[\"Adapter\"] = adapter_results\n",
        "\n",
        "    # Parameter size comparison\n",
        "    print(\"\\nParameter Size Comparison:\")\n",
        "    for name, model in zip([\"Base\", \"LoRA\", \"Adapter\"], [base_model, lora_model, adapter_model]):\n",
        "        total_params, trainable_params = calculate_model_size(model)\n",
        "        print(f\"{name} Model - Total Params: {total_params:,}, Trainable Params: {trainable_params:,}\")\n",
        "\n",
        "    # Summarize all results\n",
        "    print(\"\\nSummary of Results:\")\n",
        "    for model_name, metrics in metrics_summary.items():\n",
        "        print(f\"{model_name} Model:\")\n",
        "        for metric_name, value in metrics.items():\n",
        "            if metric_name != \"confusion_matrix\":\n",
        "                print(f\"  {metric_name}: {value}\")\n",
        "        print()  # Blank line for readability\n",
        "\n",
        "    return metrics_summary\n",
        "\n"
      ]
    },
    {
      "cell_type": "code",
      "execution_count": 49,
      "id": "77738b4c-5eac-4474-b8a7-f1059757b2d1",
      "metadata": {
        "colab": {
          "base_uri": "https://localhost:8080/",
          "height": 389
        },
        "id": "77738b4c-5eac-4474-b8a7-f1059757b2d1",
        "outputId": "2dc6e704-c67e-4277-8ecb-0393c34b1311"
      },
      "outputs": [
        {
          "output_type": "stream",
          "name": "stdout",
          "text": [
            "\n",
            "Evaluating all models...\n",
            "\n",
            "Evaluating Base Model...\n"
          ]
        },
        {
          "output_type": "stream",
          "name": "stderr",
          "text": [
            "<ipython-input-29-63631a9a6be5>:3: FutureWarning: `tokenizer` is deprecated and will be removed in version 5.0.0 for `Trainer.__init__`. Use `processing_class` instead.\n",
            "  trainer = Trainer(\n"
          ]
        },
        {
          "output_type": "display_data",
          "data": {
            "text/plain": [
              "<IPython.core.display.HTML object>"
            ],
            "text/html": [
              "\n",
              "    <div>\n",
              "      \n",
              "      <progress value='1563' max='1563' style='width:300px; height:20px; vertical-align: middle;'></progress>\n",
              "      [1563/1563 02:42]\n",
              "    </div>\n",
              "    "
            ]
          },
          "metadata": {}
        },
        {
          "output_type": "stream",
          "name": "stdout",
          "text": [
            "Base Model Results: {'eval_loss': 0.30459874868392944, 'eval_model_preparation_time': 0.012, 'eval_runtime': 162.3401, 'eval_samples_per_second': 153.998, 'eval_steps_per_second': 9.628}\n",
            "\n",
            "Evaluating LoRA Model...\n"
          ]
        },
        {
          "output_type": "display_data",
          "data": {
            "text/plain": [
              "<IPython.core.display.HTML object>"
            ],
            "text/html": [
              "\n",
              "    <div>\n",
              "      \n",
              "      <progress value='1563' max='1563' style='width:300px; height:20px; vertical-align: middle;'></progress>\n",
              "      [1563/1563 02:45]\n",
              "    </div>\n",
              "    "
            ]
          },
          "metadata": {}
        },
        {
          "output_type": "stream",
          "name": "stdout",
          "text": [
            "LoRA Model Results: {'eval_loss': 0.18530090153217316, 'eval_model_preparation_time': 0.026, 'eval_runtime': 165.1263, 'eval_samples_per_second': 151.399, 'eval_steps_per_second': 9.465}\n",
            "\n",
            "Evaluating Adapter Model...\n"
          ]
        },
        {
          "output_type": "display_data",
          "data": {
            "text/plain": [
              "<IPython.core.display.HTML object>"
            ],
            "text/html": [
              "\n",
              "    <div>\n",
              "      \n",
              "      <progress value='1563' max='1563' style='width:300px; height:20px; vertical-align: middle;'></progress>\n",
              "      [1563/1563 02:47]\n",
              "    </div>\n",
              "    "
            ]
          },
          "metadata": {}
        },
        {
          "output_type": "stream",
          "name": "stdout",
          "text": [
            "Adapter Model Results: {'eval_loss': 0.37639495730400085, 'eval_model_preparation_time': 0.0095, 'eval_runtime': 167.7751, 'eval_samples_per_second': 149.009, 'eval_steps_per_second': 9.316}\n",
            "\n",
            "Summary of Results:\n",
            "Base Model: {'eval_loss': 0.30459874868392944, 'eval_model_preparation_time': 0.012, 'eval_runtime': 162.3401, 'eval_samples_per_second': 153.998, 'eval_steps_per_second': 9.628}\n",
            "LoRA Model: {'eval_loss': 0.18530090153217316, 'eval_model_preparation_time': 0.026, 'eval_runtime': 165.1263, 'eval_samples_per_second': 151.399, 'eval_steps_per_second': 9.465}\n",
            "Adapter Model: {'eval_loss': 0.37639495730400085, 'eval_model_preparation_time': 0.0095, 'eval_runtime': 167.7751, 'eval_samples_per_second': 149.009, 'eval_steps_per_second': 9.316}\n"
          ]
        }
      ],
      "source": [
        "# Step 5: Evaluate all models\n",
        "print(\"\\nEvaluating all models...\")\n",
        "base_results = evaluate_model_summary(base_model, base_training_args, \"Base\")\n",
        "lora_results = evaluate_model_summary(lora_model, lora_training_args, \"LoRA\")\n",
        "adapter_results = evaluate_model_summary(adapter_model, adapter_training_args, \"Adapter\")\n",
        "\n",
        "# Summary of results\n",
        "print(\"\\nSummary of Results:\")\n",
        "print(\"Base Model:\", base_results)\n",
        "print(\"LoRA Model:\", lora_results)\n",
        "print(\"Adapter Model:\", adapter_results)"
      ]
    },
    {
      "cell_type": "code",
      "execution_count": 41,
      "id": "e13dd039-ef10-4813-86bf-3ae35c7a2810",
      "metadata": {
        "colab": {
          "base_uri": "https://localhost:8080/",
          "height": 1000
        },
        "id": "e13dd039-ef10-4813-86bf-3ae35c7a2810",
        "outputId": "a4a606a1-463f-497f-93ca-3a3fc69c8f71"
      },
      "outputs": [
        {
          "output_type": "stream",
          "name": "stdout",
          "text": [
            "\n",
            "Evaluating Base Model...\n"
          ]
        },
        {
          "output_type": "stream",
          "name": "stderr",
          "text": [
            "<ipython-input-26-312c1a810b01>:87: FutureWarning: `tokenizer` is deprecated and will be removed in version 5.0.0 for `Trainer.__init__`. Use `processing_class` instead.\n",
            "  base_trainer = Trainer(\n"
          ]
        },
        {
          "output_type": "display_data",
          "data": {
            "text/plain": [
              "<IPython.core.display.HTML object>"
            ],
            "text/html": []
          },
          "metadata": {}
        },
        {
          "output_type": "stream",
          "name": "stdout",
          "text": [
            "Accuracy: 0.9154\n",
            "Precision: 0.9160\n",
            "Recall: 0.9154\n",
            "F1-Score: 0.9154\n",
            "\n",
            "Confusion Matrix:\n",
            " [[11196  1304]\n",
            " [  811 11689]]\n"
          ]
        },
        {
          "output_type": "display_data",
          "data": {
            "text/plain": [
              "<Figure size 800x600 with 2 Axes>"
            ],
            "image/png": "[encoded data removed]"
          },
          "metadata": {}
        },
        {
          "output_type": "stream",
          "name": "stderr",
          "text": [
            "<ipython-input-26-312c1a810b01>:97: FutureWarning: `tokenizer` is deprecated and will be removed in version 5.0.0 for `Trainer.__init__`. Use `processing_class` instead.\n",
            "  lora_trainer = Trainer(\n"
          ]
        },
        {
          "output_type": "stream",
          "name": "stdout",
          "text": [
            "\n",
            "Evaluating LoRA Model...\n"
          ]
        },
        {
          "output_type": "display_data",
          "data": {
            "text/plain": [
              "<IPython.core.display.HTML object>"
            ],
            "text/html": []
          },
          "metadata": {}
        },
        {
          "output_type": "stream",
          "name": "stdout",
          "text": [
            "Accuracy: 0.9291\n",
            "Precision: 0.9291\n",
            "Recall: 0.9291\n",
            "F1-Score: 0.9291\n",
            "\n",
            "Confusion Matrix:\n",
            " [[11544   956]\n",
            " [  817 11683]]\n"
          ]
        },
        {
          "output_type": "display_data",
          "data": {
            "text/plain": [
              "<Figure size 800x600 with 2 Axes>"
            ],
            "image/png": "[encoded data removed]"
          },
          "metadata": {}
        },
        {
          "output_type": "stream",
          "name": "stdout",
          "text": [
            "\n",
            "Evaluating Adapter Model...\n"
          ]
        },
        {
          "output_type": "stream",
          "name": "stderr",
          "text": [
            "<ipython-input-26-312c1a810b01>:107: FutureWarning: `tokenizer` is deprecated and will be removed in version 5.0.0 for `Trainer.__init__`. Use `processing_class` instead.\n",
            "  adapter_trainer = Trainer(\n"
          ]
        },
        {
          "output_type": "display_data",
          "data": {
            "text/plain": [
              "<IPython.core.display.HTML object>"
            ],
            "text/html": []
          },
          "metadata": {}
        },
        {
          "output_type": "stream",
          "name": "stdout",
          "text": [
            "Accuracy: 0.8454\n",
            "Precision: 0.8458\n",
            "Recall: 0.8454\n",
            "F1-Score: 0.8453\n",
            "\n",
            "Confusion Matrix:\n",
            " [[10356  2144]\n",
            " [ 1722 10778]]\n"
          ]
        },
        {
          "output_type": "display_data",
          "data": {
            "text/plain": [
              "<Figure size 800x600 with 2 Axes>"
            ],
            "image/png": "[encoded data removed]"
          },
          "metadata": {}
        },
        {
          "output_type": "stream",
          "name": "stdout",
          "text": [
            "\n",
            "Parameter Size Comparison:\n",
            "Base Model - Total Params: 355,361,794, Trainable Params: 355,361,794\n",
            "LoRA Model - Total Params: 357,199,876, Trainable Params: 0\n",
            "Adapter Model - Total Params: 381,663,234, Trainable Params: 26,303,490\n",
            "\n",
            "Summary of Results:\n",
            "Base Model:\n",
            "  eval_loss: 0.30459874868392944\n",
            "  accuracy: 0.9154\n",
            "  precision: 0.9160471670265513\n",
            "  recall: 0.9154\n",
            "  f1_score: 0.9153670880886287\n",
            "\n",
            "LoRA Model:\n",
            "  eval_loss: 0.18530090153217316\n",
            "  accuracy: 0.92908\n",
            "  precision: 0.9291330641915728\n",
            "  recall: 0.92908\n",
            "  f1_score: 0.9290778075397113\n",
            "\n",
            "Adapter Model:\n",
            "  eval_loss: 0.37639495730400085\n",
            "  accuracy: 0.84536\n",
            "  precision: 0.8457540689126928\n",
            "  recall: 0.84536\n",
            "  f1_score: 0.8453159251859533\n",
            "\n"
          ]
        }
      ],
      "source": [
        "training_args_list = [base_training_args, lora_training_args, adapter_training_args]\n",
        "\n",
        "# Calculating metrics here for overall comparison\n",
        "metrics = compare_models(base_model, lora_model, adapter_model, training_args_list, test_dataset, tokenizer=tokenizer)"
      ]
    },
    {
      "cell_type": "code",
      "execution_count": 46,
      "id": "7e38754b-57ab-48ec-8ddf-58af4d37ebe0",
      "metadata": {
        "colab": {
          "base_uri": "https://localhost:8080/",
          "height": 1000
        },
        "id": "7e38754b-57ab-48ec-8ddf-58af4d37ebe0",
        "outputId": "efa0df98-e612-4e0f-c5da-86b6e0cf2a91"
      },
      "outputs": [
        {
          "output_type": "display_data",
          "data": {
            "text/plain": [
              "<Figure size 1400x1200 with 2 Axes>"
            ],
            "image/png": "[encoded data removed]"
          },
          "metadata": {}
        }
      ],
      "source": [
        "import pandas as pd\n",
        "import matplotlib.pyplot as plt\n",
        "\n",
        "# Load CSV logs for all three models\n",
        "log_model_1 = pd.read_csv('./logs/training_log_base.csv')\n",
        "log_model_2 = pd.read_csv('./logs/training_log_lora.csv')\n",
        "log_model_3 = pd.read_csv('./logs/training_log_adapter.csv')\n",
        "\n",
        "# Plot training loss and gradient norm for all models\n",
        "plt.figure(figsize=(14, 12))\n",
        "\n",
        "# Training Loss Plot\n",
        "plt.subplot(2, 1, 1)\n",
        "plt.plot(log_model_1['step'], log_model_1['loss'], label=\"Base model Loss\")\n",
        "plt.plot(log_model_2['step'], log_model_2['loss'], label=\"LoRA model Loss\")\n",
        "plt.plot(log_model_3['step'], log_model_3['loss'], label=\"Adapter model Loss\")\n",
        "plt.xlabel('Step')\n",
        "plt.ylabel('Loss')\n",
        "plt.title('Training Loss Progression')\n",
        "plt.grid()\n",
        "plt.legend()\n",
        "\n",
        "# Gradient Norm Plot\n",
        "plt.subplot(2, 1, 2)\n",
        "plt.plot(log_model_1['step'], log_model_1['gradient_norm'], label=\"Base model Gradient Norm\", linestyle='dashed')\n",
        "plt.plot(log_model_2['step'], log_model_2['gradient_norm'], label=\"LoRA model Gradient Norm\", linestyle='dotted')\n",
        "plt.plot(log_model_3['step'], log_model_3['gradient_norm'], label=\"Adapter model Gradient Norm\", linestyle='dashdot')\n",
        "plt.xlabel('Step')\n",
        "plt.ylabel('Gradient Norm')\n",
        "plt.title('Gradient Norm Progression')\n",
        "plt.grid()\n",
        "plt.legend()\n",
        "\n",
        "plt.tight_layout()\n",
        "plt.show()\n"
      ]
    },
    {
      "cell_type": "code",
      "source": [
        "tokenized_test_dataset = test_dataset.remove_columns([\"text\"])  # Remove raw text column if present\n",
        "tokenized_test_dataset.set_format(type=\"torch\", columns=[\"input_ids\", \"attention_mask\", \"label\"])\n"
      ],
      "metadata": {
        "id": "xlvtSQYTKJdF"
      },
      "id": "xlvtSQYTKJdF",
      "execution_count": 67,
      "outputs": []
    },
    {
      "cell_type": "code",
      "source": [
        "from transformers import DataCollatorWithPadding\n",
        "import pandas as pd\n",
        "from tqdm import tqdm\n",
        "import torch\n",
        "from torch.utils.data import DataLoader\n",
        "\n",
        "from torch.utils.data import DataLoader\n",
        "from transformers import DataCollatorWithPadding\n",
        "\n",
        "data_collator = DataCollatorWithPadding(tokenizer=tokenizer, return_tensors=\"pt\")\n",
        "\n",
        "dataloader = DataLoader(\n",
        "    tokenized_test_dataset,\n",
        "    batch_size=16,\n",
        "    shuffle=False,\n",
        "    collate_fn=data_collator,\n",
        ")\n",
        "\n",
        "def get_predictions(model, dataloader, name, device=\"cuda\"):\n",
        "    model.eval()\n",
        "    true_labels, predicted_labels, texts = [], [], []\n",
        "\n",
        "    with torch.no_grad():\n",
        "        for batch in tqdm(dataloader, desc=\"Predicting\"):\n",
        "            inputs = {key: batch[key].to(device) for key in [\"input_ids\", \"attention_mask\"]}\n",
        "            labels = batch[\"labels\"].to(device)\n",
        "\n",
        "            # Forward pass\n",
        "            outputs = model(**inputs)\n",
        "            if name==\"adapter_model\":\n",
        "              preds = torch.argmax(outputs, dim=1).cpu().tolist()\n",
        "            else:\n",
        "              preds = torch.argmax(outputs.logits, dim=1).cpu().tolist()\n",
        "\n",
        "            # Decode and collect\n",
        "            true_labels.extend(labels.cpu().tolist())\n",
        "            predicted_labels.extend(preds)\n",
        "            texts.extend(\n",
        "                tokenizer.batch_decode(batch[\"input_ids\"], skip_special_tokens=True)\n",
        "            )\n",
        "\n",
        "    return texts, true_labels, predicted_labels\n",
        "\n",
        "\n",
        "\n",
        "\n",
        "def log_errors(texts, true_labels, predicted_labels, output_file=\"errors.csv\"):\n",
        "    \"\"\"\n",
        "    Log mismatched predictions into a CSV file.\n",
        "    \"\"\"\n",
        "    errors = []\n",
        "    for text, true, pred in zip(texts, true_labels, predicted_labels):\n",
        "        if true != pred:\n",
        "            errors.append({\"text\": text, \"true_label\": true, \"predicted_label\": pred})\n",
        "\n",
        "    df = pd.DataFrame(errors)\n",
        "    df.to_csv(output_file, index=False)\n",
        "    print(f\"Errors logged in {output_file}\")\n",
        "\n",
        "\n",
        "# Generate predictions\n",
        "texts, true_labels, predicted_labels = get_predictions(base_model, dataloader, device=device, name=\"base_model\")\n",
        "\n",
        "# Log errors\n",
        "log_errors(texts, true_labels, predicted_labels, output_file=\"base_model_errors.csv\")\n",
        "\n",
        "\n",
        "# For Lora:\n",
        "# Generate predictions\n",
        "texts, true_labels, predicted_labels = get_predictions(lora_model, dataloader, device=device, name='lora_model')\n",
        "\n",
        "# Log errors\n",
        "log_errors(texts, true_labels, predicted_labels, output_file=\"lora_model_errors.csv\")\n",
        "\n",
        "# For Adapter\n",
        "# Generate predictions\n",
        "texts, true_labels, predicted_labels = get_predictions(adapter_model, dataloader, device=device, name= 'adapter_model')\n",
        "\n",
        "# Log errors\n",
        "log_errors(texts, true_labels, predicted_labels, output_file=\"adapter_model_errors.csv\")\n",
        "\n",
        "\n"
      ],
      "metadata": {
        "colab": {
          "base_uri": "https://localhost:8080/"
        },
        "id": "sbTZ4cqmNGgt",
        "outputId": "7e528ca0-ffd6-4519-9085-18400f3ee9b6"
      },
      "id": "sbTZ4cqmNGgt",
      "execution_count": 79,
      "outputs": [
        {
          "output_type": "stream",
          "name": "stderr",
          "text": [
            "Predicting: 100%|██████████| 1563/1563 [02:47<00:00,  9.31it/s]\n"
          ]
        },
        {
          "output_type": "stream",
          "name": "stdout",
          "text": [
            "Errors logged in base_model_errors.csv\n"
          ]
        },
        {
          "output_type": "stream",
          "name": "stderr",
          "text": [
            "Predicting: 100%|██████████| 1563/1563 [02:51<00:00,  9.10it/s]\n"
          ]
        },
        {
          "output_type": "stream",
          "name": "stdout",
          "text": [
            "Errors logged in lora_model_errors.csv\n"
          ]
        },
        {
          "output_type": "stream",
          "name": "stderr",
          "text": [
            "Predicting: 100%|██████████| 1563/1563 [02:52<00:00,  9.08it/s]\n"
          ]
        },
        {
          "output_type": "stream",
          "name": "stdout",
          "text": [
            "Errors logged in adapter_model_errors.csv\n"
          ]
        }
      ]
    },
    {
      "cell_type": "code",
      "source": [
        "import seaborn as sns\n",
        "\n",
        "def plot_error_distribution(errors_file=\"errors.csv\"):\n",
        "    \"\"\"\n",
        "    Visualize the distribution of errors.\n",
        "    \"\"\"\n",
        "    df = pd.read_csv(errors_file)\n",
        "    sns.countplot(x=\"true_label\", hue=\"predicted_label\", data=df)\n",
        "    plt.title(\"Error Distribution\")\n",
        "    plt.xlabel(\"True Label\")\n",
        "    plt.ylabel(\"Count\")\n",
        "    plt.legend(title=\"Predicted Label\")\n",
        "    plt.show()\n",
        "\n",
        "# Plot the distribution\n",
        "plot_error_distribution(\"base_model_errors.csv\")\n",
        "plot_error_distribution(\"lora_model_errors.csv\")\n",
        "plot_error_distribution(\"adapter_model_errors.csv\")\n"
      ],
      "metadata": {
        "colab": {
          "base_uri": "https://localhost:8080/",
          "height": 1000
        },
        "id": "dDbXpFsTTdem",
        "outputId": "dcd9b98e-0b0b-47f1-939b-dc3f13cc569d"
      },
      "id": "dDbXpFsTTdem",
      "execution_count": 80,
      "outputs": [
        {
          "output_type": "display_data",
          "data": {
            "text/plain": [
              "<Figure size 640x480 with 1 Axes>"
            ],
            "image/png": "[encoded data removed]"
          },
          "metadata": {}
        },
        {
          "output_type": "display_data",
          "data": {
            "text/plain": [
              "<Figure size 640x480 with 1 Axes>"
            ],
            "image/png": "[encoded data removed]"
          },
          "metadata": {}
        },
        {
          "output_type": "display_data",
          "data": {
            "text/plain": [
              "<Figure size 640x480 with 1 Axes>"
            ],
            "image/png": "[encoded data removed]"
          },
          "metadata": {}
        }
      ]
    },
    {
      "cell_type": "code",
      "source": [],
      "metadata": {
        "id": "0FxtAfR-VwkJ"
      },
      "id": "0FxtAfR-VwkJ",
      "execution_count": null,
      "outputs": []
    }
  ],
  "metadata": {
    "kernelspec": {
      "display_name": "stat_nlp",
      "language": "python",
      "name": "stat_nlp"
    },
    "language_info": {
      "codemirror_mode": {
        "name": "ipython",
        "version": 3
      },
      "file_extension": ".py",
      "mimetype": "text/x-python",
      "name": "python",
      "nbconvert_exporter": "python",
      "pygments_lexer": "ipython3",
      "version": "3.12.7"
    },
    "colab": {
      "provenance": [],
      "gpuType": "T4"
    },
    "accelerator": "GPU",
    "widgets": {
      "application/vnd.jupyter.widget-state+json": {
        "0be7bb588aae45d9a106222bf4f84cbd": {
          "model_module": "@jupyter-widgets/controls",
          "model_name": "HBoxModel",
          "model_module_version": "1.5.0",
          "state": {
            "_dom_classes": [],
            "_model_module": "@jupyter-widgets/controls",
            "_model_module_version": "1.5.0",
            "_model_name": "HBoxModel",
            "_view_count": null,
            "_view_module": "@jupyter-widgets/controls",
            "_view_module_version": "1.5.0",
            "_view_name": "HBoxView",
            "box_style": "",
            "children": [
              "IPY_MODEL_d1d2db308af940c2955e39b81c59ef44",
              "IPY_MODEL_cfe0bc0f0de14573bdb0bd884f4af671",
              "IPY_MODEL_ae38d1f735064f03a0fbf12f7710250a"
            ],
            "layout": "IPY_MODEL_fbb339d04d734fd1adc7186bc0a508a0"
          }
        },
        "d1d2db308af940c2955e39b81c59ef44": {
          "model_module": "@jupyter-widgets/controls",
          "model_name": "HTMLModel",
          "model_module_version": "1.5.0",
          "state": {
            "_dom_classes": [],
            "_model_module": "@jupyter-widgets/controls",
            "_model_module_version": "1.5.0",
            "_model_name": "HTMLModel",
            "_view_count": null,
            "_view_module": "@jupyter-widgets/controls",
            "_view_module_version": "1.5.0",
            "_view_name": "HTMLView",
            "description": "",
            "description_tooltip": null,
            "layout": "IPY_MODEL_9329ba4bc0de4c4cb3cfa29adab68631",
            "placeholder": "​",
            "style": "IPY_MODEL_c7649fa737b3423bb576308484cdd0ff",
            "value": "Map: 100%"
          }
        },
        "cfe0bc0f0de14573bdb0bd884f4af671": {
          "model_module": "@jupyter-widgets/controls",
          "model_name": "FloatProgressModel",
          "model_module_version": "1.5.0",
          "state": {
            "_dom_classes": [],
            "_model_module": "@jupyter-widgets/controls",
            "_model_module_version": "1.5.0",
            "_model_name": "FloatProgressModel",
            "_view_count": null,
            "_view_module": "@jupyter-widgets/controls",
            "_view_module_version": "1.5.0",
            "_view_name": "ProgressView",
            "bar_style": "success",
            "description": "",
            "description_tooltip": null,
            "layout": "IPY_MODEL_5a586264f0a340fb85b8a6dfc6a58a13",
            "max": 25000,
            "min": 0,
            "orientation": "horizontal",
            "style": "IPY_MODEL_aff3f622d17843dc864b807f8c1a6917",
            "value": 25000
          }
        },
        "ae38d1f735064f03a0fbf12f7710250a": {
          "model_module": "@jupyter-widgets/controls",
          "model_name": "HTMLModel",
          "model_module_version": "1.5.0",
          "state": {
            "_dom_classes": [],
            "_model_module": "@jupyter-widgets/controls",
            "_model_module_version": "1.5.0",
            "_model_name": "HTMLModel",
            "_view_count": null,
            "_view_module": "@jupyter-widgets/controls",
            "_view_module_version": "1.5.0",
            "_view_name": "HTMLView",
            "description": "",
            "description_tooltip": null,
            "layout": "IPY_MODEL_1e87876a57f542968d231b3525774ae1",
            "placeholder": "​",
            "style": "IPY_MODEL_6bce069107da4ca799e3b81c8feef556",
            "value": " 25000/25000 [00:47&lt;00:00, 478.28 examples/s]"
          }
        },
        "fbb339d04d734fd1adc7186bc0a508a0": {
          "model_module": "@jupyter-widgets/base",
          "model_name": "LayoutModel",
          "model_module_version": "1.2.0",
          "state": {
            "_model_module": "@jupyter-widgets/base",
            "_model_module_version": "1.2.0",
            "_model_name": "LayoutModel",
            "_view_count": null,
            "_view_module": "@jupyter-widgets/base",
            "_view_module_version": "1.2.0",
            "_view_name": "LayoutView",
            "align_content": null,
            "align_items": null,
            "align_self": null,
            "border": null,
            "bottom": null,
            "display": null,
            "flex": null,
            "flex_flow": null,
            "grid_area": null,
            "grid_auto_columns": null,
            "grid_auto_flow": null,
            "grid_auto_rows": null,
            "grid_column": null,
            "grid_gap": null,
            "grid_row": null,
            "grid_template_areas": null,
            "grid_template_columns": null,
            "grid_template_rows": null,
            "height": null,
            "justify_content": null,
            "justify_items": null,
            "left": null,
            "margin": null,
            "max_height": null,
            "max_width": null,
            "min_height": null,
            "min_width": null,
            "object_fit": null,
            "object_position": null,
            "order": null,
            "overflow": null,
            "overflow_x": null,
            "overflow_y": null,
            "padding": null,
            "right": null,
            "top": null,
            "visibility": null,
            "width": null
          }
        },
        "9329ba4bc0de4c4cb3cfa29adab68631": {
          "model_module": "@jupyter-widgets/base",
          "model_name": "LayoutModel",
          "model_module_version": "1.2.0",
          "state": {
            "_model_module": "@jupyter-widgets/base",
            "_model_module_version": "1.2.0",
            "_model_name": "LayoutModel",
            "_view_count": null,
            "_view_module": "@jupyter-widgets/base",
            "_view_module_version": "1.2.0",
            "_view_name": "LayoutView",
            "align_content": null,
            "align_items": null,
            "align_self": null,
            "border": null,
            "bottom": null,
            "display": null,
            "flex": null,
            "flex_flow": null,
            "grid_area": null,
            "grid_auto_columns": null,
            "grid_auto_flow": null,
            "grid_auto_rows": null,
            "grid_column": null,
            "grid_gap": null,
            "grid_row": null,
            "grid_template_areas": null,
            "grid_template_columns": null,
            "grid_template_rows": null,
            "height": null,
            "justify_content": null,
            "justify_items": null,
            "left": null,
            "margin": null,
            "max_height": null,
            "max_width": null,
            "min_height": null,
            "min_width": null,
            "object_fit": null,
            "object_position": null,
            "order": null,
            "overflow": null,
            "overflow_x": null,
            "overflow_y": null,
            "padding": null,
            "right": null,
            "top": null,
            "visibility": null,
            "width": null
          }
        },
        "c7649fa737b3423bb576308484cdd0ff": {
          "model_module": "@jupyter-widgets/controls",
          "model_name": "DescriptionStyleModel",
          "model_module_version": "1.5.0",
          "state": {
            "_model_module": "@jupyter-widgets/controls",
            "_model_module_version": "1.5.0",
            "_model_name": "DescriptionStyleModel",
            "_view_count": null,
            "_view_module": "@jupyter-widgets/base",
            "_view_module_version": "1.2.0",
            "_view_name": "StyleView",
            "description_width": ""
          }
        },
        "5a586264f0a340fb85b8a6dfc6a58a13": {
          "model_module": "@jupyter-widgets/base",
          "model_name": "LayoutModel",
          "model_module_version": "1.2.0",
          "state": {
            "_model_module": "@jupyter-widgets/base",
            "_model_module_version": "1.2.0",
            "_model_name": "LayoutModel",
            "_view_count": null,
            "_view_module": "@jupyter-widgets/base",
            "_view_module_version": "1.2.0",
            "_view_name": "LayoutView",
            "align_content": null,
            "align_items": null,
            "align_self": null,
            "border": null,
            "bottom": null,
            "display": null,
            "flex": null,
            "flex_flow": null,
            "grid_area": null,
            "grid_auto_columns": null,
            "grid_auto_flow": null,
            "grid_auto_rows": null,
            "grid_column": null,
            "grid_gap": null,
            "grid_row": null,
            "grid_template_areas": null,
            "grid_template_columns": null,
            "grid_template_rows": null,
            "height": null,
            "justify_content": null,
            "justify_items": null,
            "left": null,
            "margin": null,
            "max_height": null,
            "max_width": null,
            "min_height": null,
            "min_width": null,
            "object_fit": null,
            "object_position": null,
            "order": null,
            "overflow": null,
            "overflow_x": null,
            "overflow_y": null,
            "padding": null,
            "right": null,
            "top": null,
            "visibility": null,
            "width": null
          }
        },
        "aff3f622d17843dc864b807f8c1a6917": {
          "model_module": "@jupyter-widgets/controls",
          "model_name": "ProgressStyleModel",
          "model_module_version": "1.5.0",
          "state": {
            "_model_module": "@jupyter-widgets/controls",
            "_model_module_version": "1.5.0",
            "_model_name": "ProgressStyleModel",
            "_view_count": null,
            "_view_module": "@jupyter-widgets/base",
            "_view_module_version": "1.2.0",
            "_view_name": "StyleView",
            "bar_color": null,
            "description_width": ""
          }
        },
        "1e87876a57f542968d231b3525774ae1": {
          "model_module": "@jupyter-widgets/base",
          "model_name": "LayoutModel",
          "model_module_version": "1.2.0",
          "state": {
            "_model_module": "@jupyter-widgets/base",
            "_model_module_version": "1.2.0",
            "_model_name": "LayoutModel",
            "_view_count": null,
            "_view_module": "@jupyter-widgets/base",
            "_view_module_version": "1.2.0",
            "_view_name": "LayoutView",
            "align_content": null,
            "align_items": null,
            "align_self": null,
            "border": null,
            "bottom": null,
            "display": null,
            "flex": null,
            "flex_flow": null,
            "grid_area": null,
            "grid_auto_columns": null,
            "grid_auto_flow": null,
            "grid_auto_rows": null,
            "grid_column": null,
            "grid_gap": null,
            "grid_row": null,
            "grid_template_areas": null,
            "grid_template_columns": null,
            "grid_template_rows": null,
            "height": null,
            "justify_content": null,
            "justify_items": null,
            "left": null,
            "margin": null,
            "max_height": null,
            "max_width": null,
            "min_height": null,
            "min_width": null,
            "object_fit": null,
            "object_position": null,
            "order": null,
            "overflow": null,
            "overflow_x": null,
            "overflow_y": null,
            "padding": null,
            "right": null,
            "top": null,
            "visibility": null,
            "width": null
          }
        },
        "6bce069107da4ca799e3b81c8feef556": {
          "model_module": "@jupyter-widgets/controls",
          "model_name": "DescriptionStyleModel",
          "model_module_version": "1.5.0",
          "state": {
            "_model_module": "@jupyter-widgets/controls",
            "_model_module_version": "1.5.0",
            "_model_name": "DescriptionStyleModel",
            "_view_count": null,
            "_view_module": "@jupyter-widgets/base",
            "_view_module_version": "1.2.0",
            "_view_name": "StyleView",
            "description_width": ""
          }
        },
        "9c3fa2b01c224de892979f7a9ea4f2d1": {
          "model_module": "@jupyter-widgets/controls",
          "model_name": "HBoxModel",
          "model_module_version": "1.5.0",
          "state": {
            "_dom_classes": [],
            "_model_module": "@jupyter-widgets/controls",
            "_model_module_version": "1.5.0",
            "_model_name": "HBoxModel",
            "_view_count": null,
            "_view_module": "@jupyter-widgets/controls",
            "_view_module_version": "1.5.0",
            "_view_name": "HBoxView",
            "box_style": "",
            "children": [
              "IPY_MODEL_40b13a06e01844e7bc09630b112ff0db",
              "IPY_MODEL_8683c20efca746119b837c7863d14663",
              "IPY_MODEL_8d5c3b5391724af8a533f59281fb353f"
            ],
            "layout": "IPY_MODEL_e34e809ff89b4e05908e1207e74c4766"
          }
        },
        "40b13a06e01844e7bc09630b112ff0db": {
          "model_module": "@jupyter-widgets/controls",
          "model_name": "HTMLModel",
          "model_module_version": "1.5.0",
          "state": {
            "_dom_classes": [],
            "_model_module": "@jupyter-widgets/controls",
            "_model_module_version": "1.5.0",
            "_model_name": "HTMLModel",
            "_view_count": null,
            "_view_module": "@jupyter-widgets/controls",
            "_view_module_version": "1.5.0",
            "_view_name": "HTMLView",
            "description": "",
            "description_tooltip": null,
            "layout": "IPY_MODEL_75708e656f5b434c8b55a41f4b8f5a3f",
            "placeholder": "​",
            "style": "IPY_MODEL_f70beb0d687a43bfb8a75616818ea97a",
            "value": "Map: 100%"
          }
        },
        "8683c20efca746119b837c7863d14663": {
          "model_module": "@jupyter-widgets/controls",
          "model_name": "FloatProgressModel",
          "model_module_version": "1.5.0",
          "state": {
            "_dom_classes": [],
            "_model_module": "@jupyter-widgets/controls",
            "_model_module_version": "1.5.0",
            "_model_name": "FloatProgressModel",
            "_view_count": null,
            "_view_module": "@jupyter-widgets/controls",
            "_view_module_version": "1.5.0",
            "_view_name": "ProgressView",
            "bar_style": "success",
            "description": "",
            "description_tooltip": null,
            "layout": "IPY_MODEL_0e2518f224774746ab66c786d70a434e",
            "max": 25000,
            "min": 0,
            "orientation": "horizontal",
            "style": "IPY_MODEL_fa4d15c5aa03463f916e15d99b331bf9",
            "value": 25000
          }
        },
        "8d5c3b5391724af8a533f59281fb353f": {
          "model_module": "@jupyter-widgets/controls",
          "model_name": "HTMLModel",
          "model_module_version": "1.5.0",
          "state": {
            "_dom_classes": [],
            "_model_module": "@jupyter-widgets/controls",
            "_model_module_version": "1.5.0",
            "_model_name": "HTMLModel",
            "_view_count": null,
            "_view_module": "@jupyter-widgets/controls",
            "_view_module_version": "1.5.0",
            "_view_name": "HTMLView",
            "description": "",
            "description_tooltip": null,
            "layout": "IPY_MODEL_061b3ef781684e579312447fb110d45e",
            "placeholder": "​",
            "style": "IPY_MODEL_5bc535525dc64f7e92a3af807fe3c0b5",
            "value": " 25000/25000 [00:41&lt;00:00, 817.35 examples/s]"
          }
        },
        "e34e809ff89b4e05908e1207e74c4766": {
          "model_module": "@jupyter-widgets/base",
          "model_name": "LayoutModel",
          "model_module_version": "1.2.0",
          "state": {
            "_model_module": "@jupyter-widgets/base",
            "_model_module_version": "1.2.0",
            "_model_name": "LayoutModel",
            "_view_count": null,
            "_view_module": "@jupyter-widgets/base",
            "_view_module_version": "1.2.0",
            "_view_name": "LayoutView",
            "align_content": null,
            "align_items": null,
            "align_self": null,
            "border": null,
            "bottom": null,
            "display": null,
            "flex": null,
            "flex_flow": null,
            "grid_area": null,
            "grid_auto_columns": null,
            "grid_auto_flow": null,
            "grid_auto_rows": null,
            "grid_column": null,
            "grid_gap": null,
            "grid_row": null,
            "grid_template_areas": null,
            "grid_template_columns": null,
            "grid_template_rows": null,
            "height": null,
            "justify_content": null,
            "justify_items": null,
            "left": null,
            "margin": null,
            "max_height": null,
            "max_width": null,
            "min_height": null,
            "min_width": null,
            "object_fit": null,
            "object_position": null,
            "order": null,
            "overflow": null,
            "overflow_x": null,
            "overflow_y": null,
            "padding": null,
            "right": null,
            "top": null,
            "visibility": null,
            "width": null
          }
        },
        "75708e656f5b434c8b55a41f4b8f5a3f": {
          "model_module": "@jupyter-widgets/base",
          "model_name": "LayoutModel",
          "model_module_version": "1.2.0",
          "state": {
            "_model_module": "@jupyter-widgets/base",
            "_model_module_version": "1.2.0",
            "_model_name": "LayoutModel",
            "_view_count": null,
            "_view_module": "@jupyter-widgets/base",
            "_view_module_version": "1.2.0",
            "_view_name": "LayoutView",
            "align_content": null,
            "align_items": null,
            "align_self": null,
            "border": null,
            "bottom": null,
            "display": null,
            "flex": null,
            "flex_flow": null,
            "grid_area": null,
            "grid_auto_columns": null,
            "grid_auto_flow": null,
            "grid_auto_rows": null,
            "grid_column": null,
            "grid_gap": null,
            "grid_row": null,
            "grid_template_areas": null,
            "grid_template_columns": null,
            "grid_template_rows": null,
            "height": null,
            "justify_content": null,
            "justify_items": null,
            "left": null,
            "margin": null,
            "max_height": null,
            "max_width": null,
            "min_height": null,
            "min_width": null,
            "object_fit": null,
            "object_position": null,
            "order": null,
            "overflow": null,
            "overflow_x": null,
            "overflow_y": null,
            "padding": null,
            "right": null,
            "top": null,
            "visibility": null,
            "width": null
          }
        },
        "f70beb0d687a43bfb8a75616818ea97a": {
          "model_module": "@jupyter-widgets/controls",
          "model_name": "DescriptionStyleModel",
          "model_module_version": "1.5.0",
          "state": {
            "_model_module": "@jupyter-widgets/controls",
            "_model_module_version": "1.5.0",
            "_model_name": "DescriptionStyleModel",
            "_view_count": null,
            "_view_module": "@jupyter-widgets/base",
            "_view_module_version": "1.2.0",
            "_view_name": "StyleView",
            "description_width": ""
          }
        },
        "0e2518f224774746ab66c786d70a434e": {
          "model_module": "@jupyter-widgets/base",
          "model_name": "LayoutModel",
          "model_module_version": "1.2.0",
          "state": {
            "_model_module": "@jupyter-widgets/base",
            "_model_module_version": "1.2.0",
            "_model_name": "LayoutModel",
            "_view_count": null,
            "_view_module": "@jupyter-widgets/base",
            "_view_module_version": "1.2.0",
            "_view_name": "LayoutView",
            "align_content": null,
            "align_items": null,
            "align_self": null,
            "border": null,
            "bottom": null,
            "display": null,
            "flex": null,
            "flex_flow": null,
            "grid_area": null,
            "grid_auto_columns": null,
            "grid_auto_flow": null,
            "grid_auto_rows": null,
            "grid_column": null,
            "grid_gap": null,
            "grid_row": null,
            "grid_template_areas": null,
            "grid_template_columns": null,
            "grid_template_rows": null,
            "height": null,
            "justify_content": null,
            "justify_items": null,
            "left": null,
            "margin": null,
            "max_height": null,
            "max_width": null,
            "min_height": null,
            "min_width": null,
            "object_fit": null,
            "object_position": null,
            "order": null,
            "overflow": null,
            "overflow_x": null,
            "overflow_y": null,
            "padding": null,
            "right": null,
            "top": null,
            "visibility": null,
            "width": null
          }
        },
        "fa4d15c5aa03463f916e15d99b331bf9": {
          "model_module": "@jupyter-widgets/controls",
          "model_name": "ProgressStyleModel",
          "model_module_version": "1.5.0",
          "state": {
            "_model_module": "@jupyter-widgets/controls",
            "_model_module_version": "1.5.0",
            "_model_name": "ProgressStyleModel",
            "_view_count": null,
            "_view_module": "@jupyter-widgets/base",
            "_view_module_version": "1.2.0",
            "_view_name": "StyleView",
            "bar_color": null,
            "description_width": ""
          }
        },
        "061b3ef781684e579312447fb110d45e": {
          "model_module": "@jupyter-widgets/base",
          "model_name": "LayoutModel",
          "model_module_version": "1.2.0",
          "state": {
            "_model_module": "@jupyter-widgets/base",
            "_model_module_version": "1.2.0",
            "_model_name": "LayoutModel",
            "_view_count": null,
            "_view_module": "@jupyter-widgets/base",
            "_view_module_version": "1.2.0",
            "_view_name": "LayoutView",
            "align_content": null,
            "align_items": null,
            "align_self": null,
            "border": null,
            "bottom": null,
            "display": null,
            "flex": null,
            "flex_flow": null,
            "grid_area": null,
            "grid_auto_columns": null,
            "grid_auto_flow": null,
            "grid_auto_rows": null,
            "grid_column": null,
            "grid_gap": null,
            "grid_row": null,
            "grid_template_areas": null,
            "grid_template_columns": null,
            "grid_template_rows": null,
            "height": null,
            "justify_content": null,
            "justify_items": null,
            "left": null,
            "margin": null,
            "max_height": null,
            "max_width": null,
            "min_height": null,
            "min_width": null,
            "object_fit": null,
            "object_position": null,
            "order": null,
            "overflow": null,
            "overflow_x": null,
            "overflow_y": null,
            "padding": null,
            "right": null,
            "top": null,
            "visibility": null,
            "width": null
          }
        },
        "5bc535525dc64f7e92a3af807fe3c0b5": {
          "model_module": "@jupyter-widgets/controls",
          "model_name": "DescriptionStyleModel",
          "model_module_version": "1.5.0",
          "state": {
            "_model_module": "@jupyter-widgets/controls",
            "_model_module_version": "1.5.0",
            "_model_name": "DescriptionStyleModel",
            "_view_count": null,
            "_view_module": "@jupyter-widgets/base",
            "_view_module_version": "1.2.0",
            "_view_name": "StyleView",
            "description_width": ""
          }
        },
        "618b9a5ae6354c209cd4ac624f5eba01": {
          "model_module": "@jupyter-widgets/controls",
          "model_name": "HBoxModel",
          "model_module_version": "1.5.0",
          "state": {
            "_dom_classes": [],
            "_model_module": "@jupyter-widgets/controls",
            "_model_module_version": "1.5.0",
            "_model_name": "HBoxModel",
            "_view_count": null,
            "_view_module": "@jupyter-widgets/controls",
            "_view_module_version": "1.5.0",
            "_view_name": "HBoxView",
            "box_style": "",
            "children": [
              "IPY_MODEL_8bf3fc586f284064b69332a314a455af",
              "IPY_MODEL_671761573f674fed84c50a727ff8bb75",
              "IPY_MODEL_16d88a6ca28d4b178537af0de36fd4dc"
            ],
            "layout": "IPY_MODEL_c8aca74e1004406babb092edeeef381a"
          }
        },
        "8bf3fc586f284064b69332a314a455af": {
          "model_module": "@jupyter-widgets/controls",
          "model_name": "HTMLModel",
          "model_module_version": "1.5.0",
          "state": {
            "_dom_classes": [],
            "_model_module": "@jupyter-widgets/controls",
            "_model_module_version": "1.5.0",
            "_model_name": "HTMLModel",
            "_view_count": null,
            "_view_module": "@jupyter-widgets/controls",
            "_view_module_version": "1.5.0",
            "_view_name": "HTMLView",
            "description": "",
            "description_tooltip": null,
            "layout": "IPY_MODEL_45ee36e656e14c75a1da3b3b0d7d3fc5",
            "placeholder": "​",
            "style": "IPY_MODEL_16c6693937b4472e9a5e8fd9871b4e35",
            "value": "Map: 100%"
          }
        },
        "671761573f674fed84c50a727ff8bb75": {
          "model_module": "@jupyter-widgets/controls",
          "model_name": "FloatProgressModel",
          "model_module_version": "1.5.0",
          "state": {
            "_dom_classes": [],
            "_model_module": "@jupyter-widgets/controls",
            "_model_module_version": "1.5.0",
            "_model_name": "FloatProgressModel",
            "_view_count": null,
            "_view_module": "@jupyter-widgets/controls",
            "_view_module_version": "1.5.0",
            "_view_name": "ProgressView",
            "bar_style": "success",
            "description": "",
            "description_tooltip": null,
            "layout": "IPY_MODEL_edcddb0ad2894e0f9e0d9afe5e329802",
            "max": 50000,
            "min": 0,
            "orientation": "horizontal",
            "style": "IPY_MODEL_522e3b2ba34c4a5d8312b73a74d278a2",
            "value": 50000
          }
        },
        "16d88a6ca28d4b178537af0de36fd4dc": {
          "model_module": "@jupyter-widgets/controls",
          "model_name": "HTMLModel",
          "model_module_version": "1.5.0",
          "state": {
            "_dom_classes": [],
            "_model_module": "@jupyter-widgets/controls",
            "_model_module_version": "1.5.0",
            "_model_name": "HTMLModel",
            "_view_count": null,
            "_view_module": "@jupyter-widgets/controls",
            "_view_module_version": "1.5.0",
            "_view_name": "HTMLView",
            "description": "",
            "description_tooltip": null,
            "layout": "IPY_MODEL_83e7af82825146c0b51f092de5d01a3a",
            "placeholder": "​",
            "style": "IPY_MODEL_d3d6ab7f540c4948bbeec19f4401ee98",
            "value": " 50000/50000 [01:26&lt;00:00, 734.12 examples/s]"
          }
        },
        "c8aca74e1004406babb092edeeef381a": {
          "model_module": "@jupyter-widgets/base",
          "model_name": "LayoutModel",
          "model_module_version": "1.2.0",
          "state": {
            "_model_module": "@jupyter-widgets/base",
            "_model_module_version": "1.2.0",
            "_model_name": "LayoutModel",
            "_view_count": null,
            "_view_module": "@jupyter-widgets/base",
            "_view_module_version": "1.2.0",
            "_view_name": "LayoutView",
            "align_content": null,
            "align_items": null,
            "align_self": null,
            "border": null,
            "bottom": null,
            "display": null,
            "flex": null,
            "flex_flow": null,
            "grid_area": null,
            "grid_auto_columns": null,
            "grid_auto_flow": null,
            "grid_auto_rows": null,
            "grid_column": null,
            "grid_gap": null,
            "grid_row": null,
            "grid_template_areas": null,
            "grid_template_columns": null,
            "grid_template_rows": null,
            "height": null,
            "justify_content": null,
            "justify_items": null,
            "left": null,
            "margin": null,
            "max_height": null,
            "max_width": null,
            "min_height": null,
            "min_width": null,
            "object_fit": null,
            "object_position": null,
            "order": null,
            "overflow": null,
            "overflow_x": null,
            "overflow_y": null,
            "padding": null,
            "right": null,
            "top": null,
            "visibility": null,
            "width": null
          }
        },
        "45ee36e656e14c75a1da3b3b0d7d3fc5": {
          "model_module": "@jupyter-widgets/base",
          "model_name": "LayoutModel",
          "model_module_version": "1.2.0",
          "state": {
            "_model_module": "@jupyter-widgets/base",
            "_model_module_version": "1.2.0",
            "_model_name": "LayoutModel",
            "_view_count": null,
            "_view_module": "@jupyter-widgets/base",
            "_view_module_version": "1.2.0",
            "_view_name": "LayoutView",
            "align_content": null,
            "align_items": null,
            "align_self": null,
            "border": null,
            "bottom": null,
            "display": null,
            "flex": null,
            "flex_flow": null,
            "grid_area": null,
            "grid_auto_columns": null,
            "grid_auto_flow": null,
            "grid_auto_rows": null,
            "grid_column": null,
            "grid_gap": null,
            "grid_row": null,
            "grid_template_areas": null,
            "grid_template_columns": null,
            "grid_template_rows": null,
            "height": null,
            "justify_content": null,
            "justify_items": null,
            "left": null,
            "margin": null,
            "max_height": null,
            "max_width": null,
            "min_height": null,
            "min_width": null,
            "object_fit": null,
            "object_position": null,
            "order": null,
            "overflow": null,
            "overflow_x": null,
            "overflow_y": null,
            "padding": null,
            "right": null,
            "top": null,
            "visibility": null,
            "width": null
          }
        },
        "16c6693937b4472e9a5e8fd9871b4e35": {
          "model_module": "@jupyter-widgets/controls",
          "model_name": "DescriptionStyleModel",
          "model_module_version": "1.5.0",
          "state": {
            "_model_module": "@jupyter-widgets/controls",
            "_model_module_version": "1.5.0",
            "_model_name": "DescriptionStyleModel",
            "_view_count": null,
            "_view_module": "@jupyter-widgets/base",
            "_view_module_version": "1.2.0",
            "_view_name": "StyleView",
            "description_width": ""
          }
        },
        "edcddb0ad2894e0f9e0d9afe5e329802": {
          "model_module": "@jupyter-widgets/base",
          "model_name": "LayoutModel",
          "model_module_version": "1.2.0",
          "state": {
            "_model_module": "@jupyter-widgets/base",
            "_model_module_version": "1.2.0",
            "_model_name": "LayoutModel",
            "_view_count": null,
            "_view_module": "@jupyter-widgets/base",
            "_view_module_version": "1.2.0",
            "_view_name": "LayoutView",
            "align_content": null,
            "align_items": null,
            "align_self": null,
            "border": null,
            "bottom": null,
            "display": null,
            "flex": null,
            "flex_flow": null,
            "grid_area": null,
            "grid_auto_columns": null,
            "grid_auto_flow": null,
            "grid_auto_rows": null,
            "grid_column": null,
            "grid_gap": null,
            "grid_row": null,
            "grid_template_areas": null,
            "grid_template_columns": null,
            "grid_template_rows": null,
            "height": null,
            "justify_content": null,
            "justify_items": null,
            "left": null,
            "margin": null,
            "max_height": null,
            "max_width": null,
            "min_height": null,
            "min_width": null,
            "object_fit": null,
            "object_position": null,
            "order": null,
            "overflow": null,
            "overflow_x": null,
            "overflow_y": null,
            "padding": null,
            "right": null,
            "top": null,
            "visibility": null,
            "width": null
          }
        },
        "522e3b2ba34c4a5d8312b73a74d278a2": {
          "model_module": "@jupyter-widgets/controls",
          "model_name": "ProgressStyleModel",
          "model_module_version": "1.5.0",
          "state": {
            "_model_module": "@jupyter-widgets/controls",
            "_model_module_version": "1.5.0",
            "_model_name": "ProgressStyleModel",
            "_view_count": null,
            "_view_module": "@jupyter-widgets/base",
            "_view_module_version": "1.2.0",
            "_view_name": "StyleView",
            "bar_color": null,
            "description_width": ""
          }
        },
        "83e7af82825146c0b51f092de5d01a3a": {
          "model_module": "@jupyter-widgets/base",
          "model_name": "LayoutModel",
          "model_module_version": "1.2.0",
          "state": {
            "_model_module": "@jupyter-widgets/base",
            "_model_module_version": "1.2.0",
            "_model_name": "LayoutModel",
            "_view_count": null,
            "_view_module": "@jupyter-widgets/base",
            "_view_module_version": "1.2.0",
            "_view_name": "LayoutView",
            "align_content": null,
            "align_items": null,
            "align_self": null,
            "border": null,
            "bottom": null,
            "display": null,
            "flex": null,
            "flex_flow": null,
            "grid_area": null,
            "grid_auto_columns": null,
            "grid_auto_flow": null,
            "grid_auto_rows": null,
            "grid_column": null,
            "grid_gap": null,
            "grid_row": null,
            "grid_template_areas": null,
            "grid_template_columns": null,
            "grid_template_rows": null,
            "height": null,
            "justify_content": null,
            "justify_items": null,
            "left": null,
            "margin": null,
            "max_height": null,
            "max_width": null,
            "min_height": null,
            "min_width": null,
            "object_fit": null,
            "object_position": null,
            "order": null,
            "overflow": null,
            "overflow_x": null,
            "overflow_y": null,
            "padding": null,
            "right": null,
            "top": null,
            "visibility": null,
            "width": null
          }
        },
        "d3d6ab7f540c4948bbeec19f4401ee98": {
          "model_module": "@jupyter-widgets/controls",
          "model_name": "DescriptionStyleModel",
          "model_module_version": "1.5.0",
          "state": {
            "_model_module": "@jupyter-widgets/controls",
            "_model_module_version": "1.5.0",
            "_model_name": "DescriptionStyleModel",
            "_view_count": null,
            "_view_module": "@jupyter-widgets/base",
            "_view_module_version": "1.2.0",
            "_view_name": "StyleView",
            "description_width": ""
          }
        },
        "b0a613c8e938428ea32653cc994b468a": {
          "model_module": "@jupyter-widgets/controls",
          "model_name": "HBoxModel",
          "model_module_version": "1.5.0",
          "state": {
            "_dom_classes": [],
            "_model_module": "@jupyter-widgets/controls",
            "_model_module_version": "1.5.0",
            "_model_name": "HBoxModel",
            "_view_count": null,
            "_view_module": "@jupyter-widgets/controls",
            "_view_module_version": "1.5.0",
            "_view_name": "HBoxView",
            "box_style": "",
            "children": [
              "IPY_MODEL_4487f3500aa049f39389e8850db510cd",
              "IPY_MODEL_67965da80f264af9867f62d8961e7acd",
              "IPY_MODEL_5f56d2cba32c45aba00388ad5ed73f11"
            ],
            "layout": "IPY_MODEL_b4a77478215749fc81e6cc22e91b068b"
          }
        },
        "4487f3500aa049f39389e8850db510cd": {
          "model_module": "@jupyter-widgets/controls",
          "model_name": "HTMLModel",
          "model_module_version": "1.5.0",
          "state": {
            "_dom_classes": [],
            "_model_module": "@jupyter-widgets/controls",
            "_model_module_version": "1.5.0",
            "_model_name": "HTMLModel",
            "_view_count": null,
            "_view_module": "@jupyter-widgets/controls",
            "_view_module_version": "1.5.0",
            "_view_name": "HTMLView",
            "description": "",
            "description_tooltip": null,
            "layout": "IPY_MODEL_c8239d6c52394aeeb4ee8788ed908cdc",
            "placeholder": "​",
            "style": "IPY_MODEL_c1e6f56519e5406bb1d0936b35d3eb94",
            "value": "config.json: 100%"
          }
        },
        "67965da80f264af9867f62d8961e7acd": {
          "model_module": "@jupyter-widgets/controls",
          "model_name": "FloatProgressModel",
          "model_module_version": "1.5.0",
          "state": {
            "_dom_classes": [],
            "_model_module": "@jupyter-widgets/controls",
            "_model_module_version": "1.5.0",
            "_model_name": "FloatProgressModel",
            "_view_count": null,
            "_view_module": "@jupyter-widgets/controls",
            "_view_module_version": "1.5.0",
            "_view_name": "ProgressView",
            "bar_style": "success",
            "description": "",
            "description_tooltip": null,
            "layout": "IPY_MODEL_b86709b9b1154041bbf62f564a297e5f",
            "max": 482,
            "min": 0,
            "orientation": "horizontal",
            "style": "IPY_MODEL_0e9cc009659b41a09390e9ef850374a0",
            "value": 482
          }
        },
        "5f56d2cba32c45aba00388ad5ed73f11": {
          "model_module": "@jupyter-widgets/controls",
          "model_name": "HTMLModel",
          "model_module_version": "1.5.0",
          "state": {
            "_dom_classes": [],
            "_model_module": "@jupyter-widgets/controls",
            "_model_module_version": "1.5.0",
            "_model_name": "HTMLModel",
            "_view_count": null,
            "_view_module": "@jupyter-widgets/controls",
            "_view_module_version": "1.5.0",
            "_view_name": "HTMLView",
            "description": "",
            "description_tooltip": null,
            "layout": "IPY_MODEL_13accf884cfd4555aecb34b7cf8de7a7",
            "placeholder": "​",
            "style": "IPY_MODEL_fc554c42f1e749f28a1611f1fddf3eb1",
            "value": " 482/482 [00:00&lt;00:00, 24.5kB/s]"
          }
        },
        "b4a77478215749fc81e6cc22e91b068b": {
          "model_module": "@jupyter-widgets/base",
          "model_name": "LayoutModel",
          "model_module_version": "1.2.0",
          "state": {
            "_model_module": "@jupyter-widgets/base",
            "_model_module_version": "1.2.0",
            "_model_name": "LayoutModel",
            "_view_count": null,
            "_view_module": "@jupyter-widgets/base",
            "_view_module_version": "1.2.0",
            "_view_name": "LayoutView",
            "align_content": null,
            "align_items": null,
            "align_self": null,
            "border": null,
            "bottom": null,
            "display": null,
            "flex": null,
            "flex_flow": null,
            "grid_area": null,
            "grid_auto_columns": null,
            "grid_auto_flow": null,
            "grid_auto_rows": null,
            "grid_column": null,
            "grid_gap": null,
            "grid_row": null,
            "grid_template_areas": null,
            "grid_template_columns": null,
            "grid_template_rows": null,
            "height": null,
            "justify_content": null,
            "justify_items": null,
            "left": null,
            "margin": null,
            "max_height": null,
            "max_width": null,
            "min_height": null,
            "min_width": null,
            "object_fit": null,
            "object_position": null,
            "order": null,
            "overflow": null,
            "overflow_x": null,
            "overflow_y": null,
            "padding": null,
            "right": null,
            "top": null,
            "visibility": null,
            "width": null
          }
        },
        "c8239d6c52394aeeb4ee8788ed908cdc": {
          "model_module": "@jupyter-widgets/base",
          "model_name": "LayoutModel",
          "model_module_version": "1.2.0",
          "state": {
            "_model_module": "@jupyter-widgets/base",
            "_model_module_version": "1.2.0",
            "_model_name": "LayoutModel",
            "_view_count": null,
            "_view_module": "@jupyter-widgets/base",
            "_view_module_version": "1.2.0",
            "_view_name": "LayoutView",
            "align_content": null,
            "align_items": null,
            "align_self": null,
            "border": null,
            "bottom": null,
            "display": null,
            "flex": null,
            "flex_flow": null,
            "grid_area": null,
            "grid_auto_columns": null,
            "grid_auto_flow": null,
            "grid_auto_rows": null,
            "grid_column": null,
            "grid_gap": null,
            "grid_row": null,
            "grid_template_areas": null,
            "grid_template_columns": null,
            "grid_template_rows": null,
            "height": null,
            "justify_content": null,
            "justify_items": null,
            "left": null,
            "margin": null,
            "max_height": null,
            "max_width": null,
            "min_height": null,
            "min_width": null,
            "object_fit": null,
            "object_position": null,
            "order": null,
            "overflow": null,
            "overflow_x": null,
            "overflow_y": null,
            "padding": null,
            "right": null,
            "top": null,
            "visibility": null,
            "width": null
          }
        },
        "c1e6f56519e5406bb1d0936b35d3eb94": {
          "model_module": "@jupyter-widgets/controls",
          "model_name": "DescriptionStyleModel",
          "model_module_version": "1.5.0",
          "state": {
            "_model_module": "@jupyter-widgets/controls",
            "_model_module_version": "1.5.0",
            "_model_name": "DescriptionStyleModel",
            "_view_count": null,
            "_view_module": "@jupyter-widgets/base",
            "_view_module_version": "1.2.0",
            "_view_name": "StyleView",
            "description_width": ""
          }
        },
        "b86709b9b1154041bbf62f564a297e5f": {
          "model_module": "@jupyter-widgets/base",
          "model_name": "LayoutModel",
          "model_module_version": "1.2.0",
          "state": {
            "_model_module": "@jupyter-widgets/base",
            "_model_module_version": "1.2.0",
            "_model_name": "LayoutModel",
            "_view_count": null,
            "_view_module": "@jupyter-widgets/base",
            "_view_module_version": "1.2.0",
            "_view_name": "LayoutView",
            "align_content": null,
            "align_items": null,
            "align_self": null,
            "border": null,
            "bottom": null,
            "display": null,
            "flex": null,
            "flex_flow": null,
            "grid_area": null,
            "grid_auto_columns": null,
            "grid_auto_flow": null,
            "grid_auto_rows": null,
            "grid_column": null,
            "grid_gap": null,
            "grid_row": null,
            "grid_template_areas": null,
            "grid_template_columns": null,
            "grid_template_rows": null,
            "height": null,
            "justify_content": null,
            "justify_items": null,
            "left": null,
            "margin": null,
            "max_height": null,
            "max_width": null,
            "min_height": null,
            "min_width": null,
            "object_fit": null,
            "object_position": null,
            "order": null,
            "overflow": null,
            "overflow_x": null,
            "overflow_y": null,
            "padding": null,
            "right": null,
            "top": null,
            "visibility": null,
            "width": null
          }
        },
        "0e9cc009659b41a09390e9ef850374a0": {
          "model_module": "@jupyter-widgets/controls",
          "model_name": "ProgressStyleModel",
          "model_module_version": "1.5.0",
          "state": {
            "_model_module": "@jupyter-widgets/controls",
            "_model_module_version": "1.5.0",
            "_model_name": "ProgressStyleModel",
            "_view_count": null,
            "_view_module": "@jupyter-widgets/base",
            "_view_module_version": "1.2.0",
            "_view_name": "StyleView",
            "bar_color": null,
            "description_width": ""
          }
        },
        "13accf884cfd4555aecb34b7cf8de7a7": {
          "model_module": "@jupyter-widgets/base",
          "model_name": "LayoutModel",
          "model_module_version": "1.2.0",
          "state": {
            "_model_module": "@jupyter-widgets/base",
            "_model_module_version": "1.2.0",
            "_model_name": "LayoutModel",
            "_view_count": null,
            "_view_module": "@jupyter-widgets/base",
            "_view_module_version": "1.2.0",
            "_view_name": "LayoutView",
            "align_content": null,
            "align_items": null,
            "align_self": null,
            "border": null,
            "bottom": null,
            "display": null,
            "flex": null,
            "flex_flow": null,
            "grid_area": null,
            "grid_auto_columns": null,
            "grid_auto_flow": null,
            "grid_auto_rows": null,
            "grid_column": null,
            "grid_gap": null,
            "grid_row": null,
            "grid_template_areas": null,
            "grid_template_columns": null,
            "grid_template_rows": null,
            "height": null,
            "justify_content": null,
            "justify_items": null,
            "left": null,
            "margin": null,
            "max_height": null,
            "max_width": null,
            "min_height": null,
            "min_width": null,
            "object_fit": null,
            "object_position": null,
            "order": null,
            "overflow": null,
            "overflow_x": null,
            "overflow_y": null,
            "padding": null,
            "right": null,
            "top": null,
            "visibility": null,
            "width": null
          }
        },
        "fc554c42f1e749f28a1611f1fddf3eb1": {
          "model_module": "@jupyter-widgets/controls",
          "model_name": "DescriptionStyleModel",
          "model_module_version": "1.5.0",
          "state": {
            "_model_module": "@jupyter-widgets/controls",
            "_model_module_version": "1.5.0",
            "_model_name": "DescriptionStyleModel",
            "_view_count": null,
            "_view_module": "@jupyter-widgets/base",
            "_view_module_version": "1.2.0",
            "_view_name": "StyleView",
            "description_width": ""
          }
        },
        "0e9c0706a68a4792afabd7f6525f05f5": {
          "model_module": "@jupyter-widgets/controls",
          "model_name": "HBoxModel",
          "model_module_version": "1.5.0",
          "state": {
            "_dom_classes": [],
            "_model_module": "@jupyter-widgets/controls",
            "_model_module_version": "1.5.0",
            "_model_name": "HBoxModel",
            "_view_count": null,
            "_view_module": "@jupyter-widgets/controls",
            "_view_module_version": "1.5.0",
            "_view_name": "HBoxView",
            "box_style": "",
            "children": [
              "IPY_MODEL_cca75858ad9a4fdbaa0d0b15034ff2fc",
              "IPY_MODEL_dd8e70592465433aab35f52806eb5833",
              "IPY_MODEL_fc0057a246d4452c8fbd2d679003394e"
            ],
            "layout": "IPY_MODEL_f58e2fc400d24b15854d6599075c9e0a"
          }
        },
        "cca75858ad9a4fdbaa0d0b15034ff2fc": {
          "model_module": "@jupyter-widgets/controls",
          "model_name": "HTMLModel",
          "model_module_version": "1.5.0",
          "state": {
            "_dom_classes": [],
            "_model_module": "@jupyter-widgets/controls",
            "_model_module_version": "1.5.0",
            "_model_name": "HTMLModel",
            "_view_count": null,
            "_view_module": "@jupyter-widgets/controls",
            "_view_module_version": "1.5.0",
            "_view_name": "HTMLView",
            "description": "",
            "description_tooltip": null,
            "layout": "IPY_MODEL_791937d225944355a6bd72e3bc7b60a3",
            "placeholder": "​",
            "style": "IPY_MODEL_59cebf85a061460995b2373508b4e064",
            "value": "model.safetensors: 100%"
          }
        },
        "dd8e70592465433aab35f52806eb5833": {
          "model_module": "@jupyter-widgets/controls",
          "model_name": "FloatProgressModel",
          "model_module_version": "1.5.0",
          "state": {
            "_dom_classes": [],
            "_model_module": "@jupyter-widgets/controls",
            "_model_module_version": "1.5.0",
            "_model_name": "FloatProgressModel",
            "_view_count": null,
            "_view_module": "@jupyter-widgets/controls",
            "_view_module_version": "1.5.0",
            "_view_name": "ProgressView",
            "bar_style": "success",
            "description": "",
            "description_tooltip": null,
            "layout": "IPY_MODEL_786a3beb533a4bdeb12a3d1b32575467",
            "max": 1421700479,
            "min": 0,
            "orientation": "horizontal",
            "style": "IPY_MODEL_239619645a384870aab9c63ff0bb7b23",
            "value": 1421700479
          }
        },
        "fc0057a246d4452c8fbd2d679003394e": {
          "model_module": "@jupyter-widgets/controls",
          "model_name": "HTMLModel",
          "model_module_version": "1.5.0",
          "state": {
            "_dom_classes": [],
            "_model_module": "@jupyter-widgets/controls",
            "_model_module_version": "1.5.0",
            "_model_name": "HTMLModel",
            "_view_count": null,
            "_view_module": "@jupyter-widgets/controls",
            "_view_module_version": "1.5.0",
            "_view_name": "HTMLView",
            "description": "",
            "description_tooltip": null,
            "layout": "IPY_MODEL_1da363375be14443885f6589437db60e",
            "placeholder": "​",
            "style": "IPY_MODEL_e28c66bf25de4368a0c866c2e7ae58a6",
            "value": " 1.42G/1.42G [00:08&lt;00:00, 128MB/s]"
          }
        },
        "f58e2fc400d24b15854d6599075c9e0a": {
          "model_module": "@jupyter-widgets/base",
          "model_name": "LayoutModel",
          "model_module_version": "1.2.0",
          "state": {
            "_model_module": "@jupyter-widgets/base",
            "_model_module_version": "1.2.0",
            "_model_name": "LayoutModel",
            "_view_count": null,
            "_view_module": "@jupyter-widgets/base",
            "_view_module_version": "1.2.0",
            "_view_name": "LayoutView",
            "align_content": null,
            "align_items": null,
            "align_self": null,
            "border": null,
            "bottom": null,
            "display": null,
            "flex": null,
            "flex_flow": null,
            "grid_area": null,
            "grid_auto_columns": null,
            "grid_auto_flow": null,
            "grid_auto_rows": null,
            "grid_column": null,
            "grid_gap": null,
            "grid_row": null,
            "grid_template_areas": null,
            "grid_template_columns": null,
            "grid_template_rows": null,
            "height": null,
            "justify_content": null,
            "justify_items": null,
            "left": null,
            "margin": null,
            "max_height": null,
            "max_width": null,
            "min_height": null,
            "min_width": null,
            "object_fit": null,
            "object_position": null,
            "order": null,
            "overflow": null,
            "overflow_x": null,
            "overflow_y": null,
            "padding": null,
            "right": null,
            "top": null,
            "visibility": null,
            "width": null
          }
        },
        "791937d225944355a6bd72e3bc7b60a3": {
          "model_module": "@jupyter-widgets/base",
          "model_name": "LayoutModel",
          "model_module_version": "1.2.0",
          "state": {
            "_model_module": "@jupyter-widgets/base",
            "_model_module_version": "1.2.0",
            "_model_name": "LayoutModel",
            "_view_count": null,
            "_view_module": "@jupyter-widgets/base",
            "_view_module_version": "1.2.0",
            "_view_name": "LayoutView",
            "align_content": null,
            "align_items": null,
            "align_self": null,
            "border": null,
            "bottom": null,
            "display": null,
            "flex": null,
            "flex_flow": null,
            "grid_area": null,
            "grid_auto_columns": null,
            "grid_auto_flow": null,
            "grid_auto_rows": null,
            "grid_column": null,
            "grid_gap": null,
            "grid_row": null,
            "grid_template_areas": null,
            "grid_template_columns": null,
            "grid_template_rows": null,
            "height": null,
            "justify_content": null,
            "justify_items": null,
            "left": null,
            "margin": null,
            "max_height": null,
            "max_width": null,
            "min_height": null,
            "min_width": null,
            "object_fit": null,
            "object_position": null,
            "order": null,
            "overflow": null,
            "overflow_x": null,
            "overflow_y": null,
            "padding": null,
            "right": null,
            "top": null,
            "visibility": null,
            "width": null
          }
        },
        "59cebf85a061460995b2373508b4e064": {
          "model_module": "@jupyter-widgets/controls",
          "model_name": "DescriptionStyleModel",
          "model_module_version": "1.5.0",
          "state": {
            "_model_module": "@jupyter-widgets/controls",
            "_model_module_version": "1.5.0",
            "_model_name": "DescriptionStyleModel",
            "_view_count": null,
            "_view_module": "@jupyter-widgets/base",
            "_view_module_version": "1.2.0",
            "_view_name": "StyleView",
            "description_width": ""
          }
        },
        "786a3beb533a4bdeb12a3d1b32575467": {
          "model_module": "@jupyter-widgets/base",
          "model_name": "LayoutModel",
          "model_module_version": "1.2.0",
          "state": {
            "_model_module": "@jupyter-widgets/base",
            "_model_module_version": "1.2.0",
            "_model_name": "LayoutModel",
            "_view_count": null,
            "_view_module": "@jupyter-widgets/base",
            "_view_module_version": "1.2.0",
            "_view_name": "LayoutView",
            "align_content": null,
            "align_items": null,
            "align_self": null,
            "border": null,
            "bottom": null,
            "display": null,
            "flex": null,
            "flex_flow": null,
            "grid_area": null,
            "grid_auto_columns": null,
            "grid_auto_flow": null,
            "grid_auto_rows": null,
            "grid_column": null,
            "grid_gap": null,
            "grid_row": null,
            "grid_template_areas": null,
            "grid_template_columns": null,
            "grid_template_rows": null,
            "height": null,
            "justify_content": null,
            "justify_items": null,
            "left": null,
            "margin": null,
            "max_height": null,
            "max_width": null,
            "min_height": null,
            "min_width": null,
            "object_fit": null,
            "object_position": null,
            "order": null,
            "overflow": null,
            "overflow_x": null,
            "overflow_y": null,
            "padding": null,
            "right": null,
            "top": null,
            "visibility": null,
            "width": null
          }
        },
        "239619645a384870aab9c63ff0bb7b23": {
          "model_module": "@jupyter-widgets/controls",
          "model_name": "ProgressStyleModel",
          "model_module_version": "1.5.0",
          "state": {
            "_model_module": "@jupyter-widgets/controls",
            "_model_module_version": "1.5.0",
            "_model_name": "ProgressStyleModel",
            "_view_count": null,
            "_view_module": "@jupyter-widgets/base",
            "_view_module_version": "1.2.0",
            "_view_name": "StyleView",
            "bar_color": null,
            "description_width": ""
          }
        },
        "1da363375be14443885f6589437db60e": {
          "model_module": "@jupyter-widgets/base",
          "model_name": "LayoutModel",
          "model_module_version": "1.2.0",
          "state": {
            "_model_module": "@jupyter-widgets/base",
            "_model_module_version": "1.2.0",
            "_model_name": "LayoutModel",
            "_view_count": null,
            "_view_module": "@jupyter-widgets/base",
            "_view_module_version": "1.2.0",
            "_view_name": "LayoutView",
            "align_content": null,
            "align_items": null,
            "align_self": null,
            "border": null,
            "bottom": null,
            "display": null,
            "flex": null,
            "flex_flow": null,
            "grid_area": null,
            "grid_auto_columns": null,
            "grid_auto_flow": null,
            "grid_auto_rows": null,
            "grid_column": null,
            "grid_gap": null,
            "grid_row": null,
            "grid_template_areas": null,
            "grid_template_columns": null,
            "grid_template_rows": null,
            "height": null,
            "justify_content": null,
            "justify_items": null,
            "left": null,
            "margin": null,
            "max_height": null,
            "max_width": null,
            "min_height": null,
            "min_width": null,
            "object_fit": null,
            "object_position": null,
            "order": null,
            "overflow": null,
            "overflow_x": null,
            "overflow_y": null,
            "padding": null,
            "right": null,
            "top": null,
            "visibility": null,
            "width": null
          }
        },
        "e28c66bf25de4368a0c866c2e7ae58a6": {
          "model_module": "@jupyter-widgets/controls",
          "model_name": "DescriptionStyleModel",
          "model_module_version": "1.5.0",
          "state": {
            "_model_module": "@jupyter-widgets/controls",
            "_model_module_version": "1.5.0",
            "_model_name": "DescriptionStyleModel",
            "_view_count": null,
            "_view_module": "@jupyter-widgets/base",
            "_view_module_version": "1.2.0",
            "_view_name": "StyleView",
            "description_width": ""
          }
        }
      }
    }
  },
  "nbformat": 4,
  "nbformat_minor": 5
}